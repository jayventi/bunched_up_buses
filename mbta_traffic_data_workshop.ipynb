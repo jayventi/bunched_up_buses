{
  "nbformat": 4,
  "nbformat_minor": 0,
  "metadata": {
    "colab": {
      "name": "mbta traffic data workshop",
      "version": "0.3.2",
      "views": {},
      "default_view": {},
      "provenance": [
        {
          "file_id": "1430UWdBClr8ivyEhkHQW3mYyNHri7d1D",
          "timestamp": 1523381581788
        },
        {
          "file_id": "17JHA2pCrBvPFwNjdKcPmH-oUCplPRT_D",
          "timestamp": 1522186572229
        },
        {
          "file_id": "1VXCEMJrReco17loEgZR-UW79HqBrkMEG",
          "timestamp": 1521768285959
        }
      ],
      "collapsed_sections": []
    },
    "kernelspec": {
      "display_name": "Python 3",
      "language": "python",
      "name": "python3"
    }
  },
  "cells": [
    {
      "metadata": {
        "id": "02rKS86ws6Fw",
        "colab_type": "text"
      },
      "cell_type": "markdown",
      "source": [
        "# Bunched Up Bus Analysis Using MBTA Data\n",
        "\n",
        "This project attempts to map the occurrence of 'bunch ups' buses, a condition where several buses, arrive immediately one after the other at a given bus stop.\n",
        "<br /><br />\n",
        "Bunched buses is an indication that the bus system is congested and thrashing, becoming less efficient as it attempts to handle more traffic. This is characterized by unusually large groups of people waiting long times during rush hours. When eventually a bus arrives it takes a unusually long time to load and may overflow. Ultimately a second nearly empty bus and sometimes a third bus will follow on immediately after the first bus, these latter buses being under utilized. This condition causes a breakdown in the efficiency of the bus line since buses are extremely on evenly loaded and large wait times occur between the sets of buses.\n",
        "<br /><br />\n",
        "Here we attempt to characterize the system breakdown by looking at actual wait times for a first second and third bus from the standpoint of a single bus stop looking at buses traveling along each individual route over a one day\n",
        "<br /><br />\n",
        "The analysis utilizes Boston MBTA data accessible at \n",
        "http://mbta-history.apptic.xyz and \n",
        "https://www.mbta.com/gtfs_archive/ data repositories."
      ]
    },
    {
      "metadata": {
        "id": "tJ0X7LrU548T",
        "colab_type": "code",
        "colab": {
          "autoexec": {
            "startup": false,
            "wait_interval": 0
          }
        }
      },
      "cell_type": "code",
      "source": [
        "# initialize libraries \n",
        "from datetime import datetime, timedelta\n",
        "from io import BytesIO, TextIOWrapper\n",
        "import tarfile\n",
        "from urllib.error import HTTPError\n",
        "from urllib.request import urlopen\n",
        "\n",
        "import numpy as np\n",
        "import pandas as pd\n",
        "\n"
      ],
      "execution_count": 0,
      "outputs": []
    },
    {
      "metadata": {
        "id": "q-ouOZ1E548W",
        "colab_type": "text"
      },
      "cell_type": "markdown",
      "source": [
        "## get_updates\n",
        "\n",
        "Import data from the first repository and unzip it this contains time series of buses traveling across the system. From this data we obtain time specific vehicles transit each busstop."
      ]
    },
    {
      "metadata": {
        "id": "rTq5YqIa548X",
        "colab_type": "code",
        "colab": {
          "autoexec": {
            "startup": false,
            "wait_interval": 0
          }
        }
      },
      "cell_type": "code",
      "source": [
        "\n",
        "def get_updates(dt):\n",
        "    \"\"\"Retrieves the vehicle updates for the given date from\n",
        "    the archive site and read them into a pandas DataFrame.\n",
        "    \n",
        "    :param dt: a date-like object\n",
        "    \"\"\"\n",
        "    # This reads the gzipped tarfile into memory, extracts the file,\n",
        "    # and reads it directly into a dataframe.\n",
        "    \n",
        "    # Pandas can also read directly from URLs and file paths\n",
        "    url = dt.strftime(\"http://mbta-history.apptic.xyz/%Y/%m/%Y-%m-%d.csv.gz\")\n",
        "\n",
        "    return pd.read_csv(url, dtype=\"unicode\")"
      ],
      "execution_count": 0,
      "outputs": []
    },
    {
      "metadata": {
        "id": "_brlzJW89Ht3",
        "colab_type": "code",
        "colab": {
          "autoexec": {
            "startup": false,
            "wait_interval": 0
          },
          "base_uri": "https://localhost:8080/",
          "height": 198
        },
        "outputId": "278b777d-8310-478f-9404-79877f846481",
        "executionInfo": {
          "status": "ok",
          "timestamp": 1530030042545,
          "user_tz": 240,
          "elapsed": 13382,
          "user": {
            "displayName": "jay venti",
            "photoUrl": "//lh5.googleusercontent.com/-tfYlLQFNijE/AAAAAAAAAAI/AAAAAAAAAGA/DvcKQDdGFmw/s50-c-k-no/photo.jpg",
            "userId": "105684942742382661361"
          }
        }
      },
      "cell_type": "code",
      "source": [
        "# timestamp is arbitrary and ought to be turned into a variable. Better yet \n",
        "# multiple days ought to be iterated over and the below material turned \n",
        "# into a method\n",
        "dt = datetime(2018, 1, 9)\n",
        "df = get_updates(dt)\n",
        "df.head()"
      ],
      "execution_count": 6,
      "outputs": [
        {
          "output_type": "execute_result",
          "data": {
            "text/html": [
              "<div>\n",
              "<style scoped>\n",
              "    .dataframe tbody tr th:only-of-type {\n",
              "        vertical-align: middle;\n",
              "    }\n",
              "\n",
              "    .dataframe tbody tr th {\n",
              "        vertical-align: top;\n",
              "    }\n",
              "\n",
              "    .dataframe thead th {\n",
              "        text-align: right;\n",
              "    }\n",
              "</style>\n",
              "<table border=\"1\" class=\"dataframe\">\n",
              "  <thead>\n",
              "    <tr style=\"text-align: right;\">\n",
              "      <th></th>\n",
              "      <th>trip_id</th>\n",
              "      <th>trip_start</th>\n",
              "      <th>stop_id</th>\n",
              "      <th>stop_sequence</th>\n",
              "      <th>vehicle_id</th>\n",
              "      <th>status</th>\n",
              "      <th>timestamp</th>\n",
              "      <th>lat</th>\n",
              "      <th>lon</th>\n",
              "    </tr>\n",
              "  </thead>\n",
              "  <tbody>\n",
              "    <tr>\n",
              "      <th>0</th>\n",
              "      <td>35793582</td>\n",
              "      <td>2018-01-09</td>\n",
              "      <td>343</td>\n",
              "      <td>9</td>\n",
              "      <td>y1891</td>\n",
              "      <td>INCOMING_AT</td>\n",
              "      <td>2018-01-09 08:28:57</td>\n",
              "      <td>42.29109191894531</td>\n",
              "      <td>-71.06278228759766</td>\n",
              "    </tr>\n",
              "    <tr>\n",
              "      <th>1</th>\n",
              "      <td>35793583</td>\n",
              "      <td>2018-01-09</td>\n",
              "      <td>381</td>\n",
              "      <td>16</td>\n",
              "      <td>y1881</td>\n",
              "      <td>INCOMING_AT</td>\n",
              "      <td>2018-01-09 08:29:26</td>\n",
              "      <td>42.29609298706055</td>\n",
              "      <td>-71.08749389648438</td>\n",
              "    </tr>\n",
              "    <tr>\n",
              "      <th>2</th>\n",
              "      <td>3658_1515485700_0</td>\n",
              "      <td>2018-01-09</td>\n",
              "      <td>70106</td>\n",
              "      <td>0</td>\n",
              "      <td>10094</td>\n",
              "      <td>INCOMING_AT</td>\n",
              "      <td>2018-01-09 08:22:14</td>\n",
              "      <td>42.340999603271484</td>\n",
              "      <td>-71.16741943359375</td>\n",
              "    </tr>\n",
              "    <tr>\n",
              "      <th>3</th>\n",
              "      <td>0</td>\n",
              "      <td>2018-01-09</td>\n",
              "      <td>NaN</td>\n",
              "      <td>0</td>\n",
              "      <td>172</td>\n",
              "      <td>IN_TRANSIT_TO</td>\n",
              "      <td>2018-01-09 08:22:06</td>\n",
              "      <td>42.3387451171875</td>\n",
              "      <td>-71.04429626464844</td>\n",
              "    </tr>\n",
              "    <tr>\n",
              "      <th>4</th>\n",
              "      <td>1</td>\n",
              "      <td>2018-01-09</td>\n",
              "      <td>NaN</td>\n",
              "      <td>0</td>\n",
              "      <td>252</td>\n",
              "      <td>IN_TRANSIT_TO</td>\n",
              "      <td>2018-01-09 08:28:04</td>\n",
              "      <td>42.33885955810547</td>\n",
              "      <td>-71.04425048828125</td>\n",
              "    </tr>\n",
              "  </tbody>\n",
              "</table>\n",
              "</div>"
            ],
            "text/plain": [
              "             trip_id  trip_start stop_id stop_sequence vehicle_id  \\\n",
              "0           35793582  2018-01-09     343             9      y1891   \n",
              "1           35793583  2018-01-09     381            16      y1881   \n",
              "2  3658_1515485700_0  2018-01-09   70106             0      10094   \n",
              "3                  0  2018-01-09     NaN             0        172   \n",
              "4                  1  2018-01-09     NaN             0        252   \n",
              "\n",
              "          status            timestamp                 lat                 lon  \n",
              "0    INCOMING_AT  2018-01-09 08:28:57   42.29109191894531  -71.06278228759766  \n",
              "1    INCOMING_AT  2018-01-09 08:29:26   42.29609298706055  -71.08749389648438  \n",
              "2    INCOMING_AT  2018-01-09 08:22:14  42.340999603271484  -71.16741943359375  \n",
              "3  IN_TRANSIT_TO  2018-01-09 08:22:06    42.3387451171875  -71.04429626464844  \n",
              "4  IN_TRANSIT_TO  2018-01-09 08:28:04   42.33885955810547  -71.04425048828125  "
            ]
          },
          "metadata": {
            "tags": []
          },
          "execution_count": 6
        }
      ]
    },
    {
      "metadata": {
        "id": "Vvw95rzu_Tq2",
        "colab_type": "code",
        "colab": {
          "autoexec": {
            "startup": false,
            "wait_interval": 0
          },
          "base_uri": "https://localhost:8080/",
          "height": 108
        },
        "outputId": "01b8734a-fac0-42e7-d099-1d887b702126",
        "executionInfo": {
          "status": "ok",
          "timestamp": 1530030044640,
          "user_tz": 240,
          "elapsed": 911,
          "user": {
            "displayName": "jay venti",
            "photoUrl": "//lh5.googleusercontent.com/-tfYlLQFNijE/AAAAAAAAAAI/AAAAAAAAAGA/DvcKQDdGFmw/s50-c-k-no/photo.jpg",
            "userId": "105684942742382661361"
          }
        }
      },
      "cell_type": "code",
      "source": [
        "# just for fun to see what were working with\n",
        "df[\"trip_id\"].describe()\n"
      ],
      "execution_count": 7,
      "outputs": [
        {
          "output_type": "execute_result",
          "data": {
            "text/plain": [
              "count     2414535\n",
              "unique      17420\n",
              "top             0\n",
              "freq         5526\n",
              "Name: trip_id, dtype: object"
            ]
          },
          "metadata": {
            "tags": []
          },
          "execution_count": 7
        }
      ]
    },
    {
      "metadata": {
        "id": "lmoekt0v_tpx",
        "colab_type": "code",
        "colab": {
          "autoexec": {
            "startup": false,
            "wait_interval": 0
          },
          "base_uri": "https://localhost:8080/",
          "height": 198
        },
        "outputId": "9d5f3e96-496a-44be-c680-9efb8be40861",
        "executionInfo": {
          "status": "ok",
          "timestamp": 1530030046997,
          "user_tz": 240,
          "elapsed": 748,
          "user": {
            "displayName": "jay venti",
            "photoUrl": "//lh5.googleusercontent.com/-tfYlLQFNijE/AAAAAAAAAAI/AAAAAAAAAGA/DvcKQDdGFmw/s50-c-k-no/photo.jpg",
            "userId": "105684942742382661361"
          }
        }
      },
      "cell_type": "code",
      "source": [
        "# we are only iterested in busis at stopes mask out all other data\n",
        "mask = df[\"status\"] == \"STOPPED_AT\"\n",
        "stops_df =df[mask]\n",
        "stops_df.head()"
      ],
      "execution_count": 8,
      "outputs": [
        {
          "output_type": "execute_result",
          "data": {
            "text/html": [
              "<div>\n",
              "<style scoped>\n",
              "    .dataframe tbody tr th:only-of-type {\n",
              "        vertical-align: middle;\n",
              "    }\n",
              "\n",
              "    .dataframe tbody tr th {\n",
              "        vertical-align: top;\n",
              "    }\n",
              "\n",
              "    .dataframe thead th {\n",
              "        text-align: right;\n",
              "    }\n",
              "</style>\n",
              "<table border=\"1\" class=\"dataframe\">\n",
              "  <thead>\n",
              "    <tr style=\"text-align: right;\">\n",
              "      <th></th>\n",
              "      <th>trip_id</th>\n",
              "      <th>trip_start</th>\n",
              "      <th>stop_id</th>\n",
              "      <th>stop_sequence</th>\n",
              "      <th>vehicle_id</th>\n",
              "      <th>status</th>\n",
              "      <th>timestamp</th>\n",
              "      <th>lat</th>\n",
              "      <th>lon</th>\n",
              "    </tr>\n",
              "  </thead>\n",
              "  <tbody>\n",
              "    <tr>\n",
              "      <th>10</th>\n",
              "      <td>35793582</td>\n",
              "      <td>2018-01-09</td>\n",
              "      <td>343</td>\n",
              "      <td>9</td>\n",
              "      <td>y1891</td>\n",
              "      <td>STOPPED_AT</td>\n",
              "      <td>2018-01-09 08:29:57</td>\n",
              "      <td>42.296844482421875</td>\n",
              "      <td>-71.0611343383789</td>\n",
              "    </tr>\n",
              "    <tr>\n",
              "      <th>15</th>\n",
              "      <td>35793582</td>\n",
              "      <td>2018-01-09</td>\n",
              "      <td>343</td>\n",
              "      <td>9</td>\n",
              "      <td>y1891</td>\n",
              "      <td>STOPPED_AT</td>\n",
              "      <td>2018-01-09 08:29:57</td>\n",
              "      <td>42.296844482421875</td>\n",
              "      <td>-71.0611343383789</td>\n",
              "    </tr>\n",
              "    <tr>\n",
              "      <th>20</th>\n",
              "      <td>35793582</td>\n",
              "      <td>2018-01-09</td>\n",
              "      <td>343</td>\n",
              "      <td>9</td>\n",
              "      <td>y1891</td>\n",
              "      <td>STOPPED_AT</td>\n",
              "      <td>2018-01-09 08:29:57</td>\n",
              "      <td>42.296844482421875</td>\n",
              "      <td>-71.0611343383789</td>\n",
              "    </tr>\n",
              "    <tr>\n",
              "      <th>21</th>\n",
              "      <td>35793583</td>\n",
              "      <td>2018-01-09</td>\n",
              "      <td>382</td>\n",
              "      <td>17</td>\n",
              "      <td>y1881</td>\n",
              "      <td>STOPPED_AT</td>\n",
              "      <td>2018-01-09 08:30:27</td>\n",
              "      <td>42.30098342895508</td>\n",
              "      <td>-71.08590698242188</td>\n",
              "    </tr>\n",
              "    <tr>\n",
              "      <th>25</th>\n",
              "      <td>35793582</td>\n",
              "      <td>2018-01-09</td>\n",
              "      <td>343</td>\n",
              "      <td>9</td>\n",
              "      <td>y1891</td>\n",
              "      <td>STOPPED_AT</td>\n",
              "      <td>2018-01-09 08:29:57</td>\n",
              "      <td>42.296844482421875</td>\n",
              "      <td>-71.0611343383789</td>\n",
              "    </tr>\n",
              "  </tbody>\n",
              "</table>\n",
              "</div>"
            ],
            "text/plain": [
              "     trip_id  trip_start stop_id stop_sequence vehicle_id      status  \\\n",
              "10  35793582  2018-01-09     343             9      y1891  STOPPED_AT   \n",
              "15  35793582  2018-01-09     343             9      y1891  STOPPED_AT   \n",
              "20  35793582  2018-01-09     343             9      y1891  STOPPED_AT   \n",
              "21  35793583  2018-01-09     382            17      y1881  STOPPED_AT   \n",
              "25  35793582  2018-01-09     343             9      y1891  STOPPED_AT   \n",
              "\n",
              "              timestamp                 lat                 lon  \n",
              "10  2018-01-09 08:29:57  42.296844482421875   -71.0611343383789  \n",
              "15  2018-01-09 08:29:57  42.296844482421875   -71.0611343383789  \n",
              "20  2018-01-09 08:29:57  42.296844482421875   -71.0611343383789  \n",
              "21  2018-01-09 08:30:27   42.30098342895508  -71.08590698242188  \n",
              "25  2018-01-09 08:29:57  42.296844482421875   -71.0611343383789  "
            ]
          },
          "metadata": {
            "tags": []
          },
          "execution_count": 8
        }
      ]
    },
    {
      "metadata": {
        "id": "bY_qAh5-A2le",
        "colab_type": "code",
        "colab": {
          "autoexec": {
            "startup": false,
            "wait_interval": 0
          },
          "base_uri": "https://localhost:8080/",
          "height": 525
        },
        "outputId": "6c95a9fe-e9ad-4f0d-b8c8-a0c8de636186",
        "executionInfo": {
          "status": "ok",
          "timestamp": 1530030051347,
          "user_tz": 240,
          "elapsed": 1384,
          "user": {
            "displayName": "jay venti",
            "photoUrl": "//lh5.googleusercontent.com/-tfYlLQFNijE/AAAAAAAAAAI/AAAAAAAAAGA/DvcKQDdGFmw/s50-c-k-no/photo.jpg",
            "userId": "105684942742382661361"
          }
        }
      },
      "cell_type": "code",
      "source": [
        "#convert stop_sequencet to int rename stop_sequence and remove unused colums\n",
        "stops_df.loc[:,'stop_sequence_int'] = stops_df['stop_sequence'].astype(int)\n",
        "stops_df[\"stop_sequence\"] = stops_df[\"stop_sequence_int\"]\n",
        "stops_df = stops_df.drop(\"stop_sequence_int\", 1, errors='ignore')\n",
        "stops_df = stops_df.drop(\"lat\", 1, errors='ignore')\n",
        "stops_df = stops_df.drop(\"lon\", 1, errors='ignore')\n",
        "stops_df = stops_df.drop_duplicates()\n",
        "stops_df.head()"
      ],
      "execution_count": 9,
      "outputs": [
        {
          "output_type": "stream",
          "text": [
            "/usr/local/lib/python3.6/dist-packages/pandas/core/indexing.py:357: SettingWithCopyWarning: \n",
            "A value is trying to be set on a copy of a slice from a DataFrame.\n",
            "Try using .loc[row_indexer,col_indexer] = value instead\n",
            "\n",
            "See the caveats in the documentation: http://pandas.pydata.org/pandas-docs/stable/indexing.html#indexing-view-versus-copy\n",
            "  self.obj[key] = _infer_fill_value(value)\n",
            "/usr/local/lib/python3.6/dist-packages/pandas/core/indexing.py:537: SettingWithCopyWarning: \n",
            "A value is trying to be set on a copy of a slice from a DataFrame.\n",
            "Try using .loc[row_indexer,col_indexer] = value instead\n",
            "\n",
            "See the caveats in the documentation: http://pandas.pydata.org/pandas-docs/stable/indexing.html#indexing-view-versus-copy\n",
            "  self.obj[item] = s\n",
            "/usr/local/lib/python3.6/dist-packages/ipykernel_launcher.py:2: SettingWithCopyWarning: \n",
            "A value is trying to be set on a copy of a slice from a DataFrame.\n",
            "Try using .loc[row_indexer,col_indexer] = value instead\n",
            "\n",
            "See the caveats in the documentation: http://pandas.pydata.org/pandas-docs/stable/indexing.html#indexing-view-versus-copy\n",
            "  \n"
          ],
          "name": "stderr"
        },
        {
          "output_type": "execute_result",
          "data": {
            "text/html": [
              "<div>\n",
              "<style scoped>\n",
              "    .dataframe tbody tr th:only-of-type {\n",
              "        vertical-align: middle;\n",
              "    }\n",
              "\n",
              "    .dataframe tbody tr th {\n",
              "        vertical-align: top;\n",
              "    }\n",
              "\n",
              "    .dataframe thead th {\n",
              "        text-align: right;\n",
              "    }\n",
              "</style>\n",
              "<table border=\"1\" class=\"dataframe\">\n",
              "  <thead>\n",
              "    <tr style=\"text-align: right;\">\n",
              "      <th></th>\n",
              "      <th>trip_id</th>\n",
              "      <th>trip_start</th>\n",
              "      <th>stop_id</th>\n",
              "      <th>stop_sequence</th>\n",
              "      <th>vehicle_id</th>\n",
              "      <th>status</th>\n",
              "      <th>timestamp</th>\n",
              "    </tr>\n",
              "  </thead>\n",
              "  <tbody>\n",
              "    <tr>\n",
              "      <th>10</th>\n",
              "      <td>35793582</td>\n",
              "      <td>2018-01-09</td>\n",
              "      <td>343</td>\n",
              "      <td>9</td>\n",
              "      <td>y1891</td>\n",
              "      <td>STOPPED_AT</td>\n",
              "      <td>2018-01-09 08:29:57</td>\n",
              "    </tr>\n",
              "    <tr>\n",
              "      <th>21</th>\n",
              "      <td>35793583</td>\n",
              "      <td>2018-01-09</td>\n",
              "      <td>382</td>\n",
              "      <td>17</td>\n",
              "      <td>y1881</td>\n",
              "      <td>STOPPED_AT</td>\n",
              "      <td>2018-01-09 08:30:27</td>\n",
              "    </tr>\n",
              "    <tr>\n",
              "      <th>51</th>\n",
              "      <td>35793582</td>\n",
              "      <td>2018-01-09</td>\n",
              "      <td>322</td>\n",
              "      <td>11</td>\n",
              "      <td>y1891</td>\n",
              "      <td>STOPPED_AT</td>\n",
              "      <td>2018-01-09 08:31:57</td>\n",
              "    </tr>\n",
              "    <tr>\n",
              "      <th>56</th>\n",
              "      <td>35793582</td>\n",
              "      <td>2018-01-09</td>\n",
              "      <td>322</td>\n",
              "      <td>11</td>\n",
              "      <td>y1891</td>\n",
              "      <td>STOPPED_AT</td>\n",
              "      <td>2018-01-09 08:32:13</td>\n",
              "    </tr>\n",
              "    <tr>\n",
              "      <th>57</th>\n",
              "      <td>35793583</td>\n",
              "      <td>2018-01-09</td>\n",
              "      <td>385</td>\n",
              "      <td>20</td>\n",
              "      <td>y1881</td>\n",
              "      <td>STOPPED_AT</td>\n",
              "      <td>2018-01-09 08:32:20</td>\n",
              "    </tr>\n",
              "  </tbody>\n",
              "</table>\n",
              "</div>"
            ],
            "text/plain": [
              "     trip_id  trip_start stop_id  stop_sequence vehicle_id      status  \\\n",
              "10  35793582  2018-01-09     343              9      y1891  STOPPED_AT   \n",
              "21  35793583  2018-01-09     382             17      y1881  STOPPED_AT   \n",
              "51  35793582  2018-01-09     322             11      y1891  STOPPED_AT   \n",
              "56  35793582  2018-01-09     322             11      y1891  STOPPED_AT   \n",
              "57  35793583  2018-01-09     385             20      y1881  STOPPED_AT   \n",
              "\n",
              "              timestamp  \n",
              "10  2018-01-09 08:29:57  \n",
              "21  2018-01-09 08:30:27  \n",
              "51  2018-01-09 08:31:57  \n",
              "56  2018-01-09 08:32:13  \n",
              "57  2018-01-09 08:32:20  "
            ]
          },
          "metadata": {
            "tags": []
          },
          "execution_count": 9
        }
      ]
    },
    {
      "metadata": {
        "id": "fWweSM5RLVM7",
        "colab_type": "text"
      },
      "cell_type": "markdown",
      "source": [
        "now we need to open up the base data set and find the table that associates route_id with trip_id which turns out to be located in the trips.txt file. We will join this to the previous data set we've been working with."
      ]
    },
    {
      "metadata": {
        "id": "akWGQTwuAk-f",
        "colab_type": "code",
        "colab": {
          "autoexec": {
            "startup": false,
            "wait_interval": 0
          }
        }
      },
      "cell_type": "code",
      "source": [
        "#import mbta data and unzip csv\n",
        "import zipfile\n",
        "\n",
        "def mbta_feed_urls():\n",
        "    \"\"\"Returns a generator of (feed_start_date, feed_end_date, archive_url)\n",
        "    tuples from the MBTA's archived feeds site.\n",
        "    \"\"\"\n",
        "    u = urlopen(\"https://www.mbta.com/gtfs_archive/archived_feeds.txt\")\n",
        "    for l in csv.DictReader(TextIOWrapper(BytesIO(u.read()))):\n",
        "        yield (datetime.strptime(l[\"feed_start_date\"], \"%Y%m%d\"),\n",
        "               datetime.strptime(l[\"feed_end_date\"], \"%Y%m%d\"),\n",
        "               l[\"archive_url\"])\n",
        "\n",
        "def mbta_feed_urls_for(range_start=None, range_end=None):\n",
        "    eastern = pytz.timezone(\"US/Eastern\")\n",
        "    range_start = range_start or datetime.now()\n",
        "    range_end = range_end or range_start\n",
        "    for start, end, url in mbta_feed_urls():\n",
        "        if range_start.tzinfo:\n",
        "            start = start.astimezone(eastern)\n",
        "            end = end.astimezone(eastern)\n",
        "        if start <= range_end:\n",
        "            if end < range_start:\n",
        "                continue\n",
        "            yield url\n",
        "            \n",
        "def mbta_feed_url_for(when):\n",
        "    \"\"\"Get the URL for the MBTA's GTFS feed active at the \n",
        "    datetime `when`.\"\"\"\n",
        "    return next(mbta_feed_urls_for(when, when), None)\n",
        "\n",
        "def get_zip(url=\"http://www.mbta.com/uploadedfiles/MBTA_GTFS.zip\"):\n",
        "    with urlopen(url) as u:\n",
        "        return zipfile.ZipFile(BytesIO(u.read()))\n",
        "    \n",
        "def get_zip_item(feed, name):\n",
        "    data = TextIOWrapper(BytesIO(feed.read(name + \".txt\")), \n",
        "                         encoding=\"utf-8\", line_buffering=True)\n",
        "    # Specify 'unicode' as the datatype so that Pandas\n",
        "    # doesn't try to infer cell types. It will get it\n",
        "    # wrong anyway.\n",
        "    return pd.read_csv(data, dtype=\"unicode\")"
      ],
      "execution_count": 0,
      "outputs": []
    },
    {
      "metadata": {
        "id": "4CzVyabSME4N",
        "colab_type": "text"
      },
      "cell_type": "markdown",
      "source": [
        "Download the base zip file"
      ]
    },
    {
      "metadata": {
        "id": "R98Z3dRkBGUe",
        "colab_type": "code",
        "colab": {
          "autoexec": {
            "startup": false,
            "wait_interval": 0
          }
        }
      },
      "cell_type": "code",
      "source": [
        "# 2018, 3, 15\n",
        "mbta_url = \"https://cdn.mbta.com/archive/20180109.zip\"\n",
        "mbta_feed = get_zip(mbta_url)"
      ],
      "execution_count": 0,
      "outputs": []
    },
    {
      "metadata": {
        "id": "atWQTrQKMNcb",
        "colab_type": "text"
      },
      "cell_type": "markdown",
      "source": [
        "unpack the needed stop_times.txt csv table "
      ]
    },
    {
      "metadata": {
        "id": "CpshXhRKBHG8",
        "colab_type": "code",
        "colab": {
          "autoexec": {
            "startup": false,
            "wait_interval": 0
          },
          "base_uri": "https://localhost:8080/",
          "height": 285
        },
        "outputId": "868f769f-48a3-4fba-f307-f35cbfe75177",
        "executionInfo": {
          "status": "ok",
          "timestamp": 1530030067322,
          "user_tz": 240,
          "elapsed": 3092,
          "user": {
            "displayName": "jay venti",
            "photoUrl": "//lh5.googleusercontent.com/-tfYlLQFNijE/AAAAAAAAAAI/AAAAAAAAAGA/DvcKQDdGFmw/s50-c-k-no/photo.jpg",
            "userId": "105684942742382661361"
          }
        }
      },
      "cell_type": "code",
      "source": [
        "stop_times = get_zip_item(mbta_feed, \"stop_times\")\n",
        "stop_times.head()"
      ],
      "execution_count": 12,
      "outputs": [
        {
          "output_type": "execute_result",
          "data": {
            "text/html": [
              "<div>\n",
              "<style scoped>\n",
              "    .dataframe tbody tr th:only-of-type {\n",
              "        vertical-align: middle;\n",
              "    }\n",
              "\n",
              "    .dataframe tbody tr th {\n",
              "        vertical-align: top;\n",
              "    }\n",
              "\n",
              "    .dataframe thead th {\n",
              "        text-align: right;\n",
              "    }\n",
              "</style>\n",
              "<table border=\"1\" class=\"dataframe\">\n",
              "  <thead>\n",
              "    <tr style=\"text-align: right;\">\n",
              "      <th></th>\n",
              "      <th>trip_id</th>\n",
              "      <th>arrival_time</th>\n",
              "      <th>departure_time</th>\n",
              "      <th>stop_id</th>\n",
              "      <th>stop_sequence</th>\n",
              "      <th>stop_headsign</th>\n",
              "      <th>pickup_type</th>\n",
              "      <th>drop_off_type</th>\n",
              "      <th>timepoint</th>\n",
              "      <th>checkpoint_id</th>\n",
              "    </tr>\n",
              "  </thead>\n",
              "  <tbody>\n",
              "    <tr>\n",
              "      <th>0</th>\n",
              "      <td>Logan-22-Weekday-trip</td>\n",
              "      <td>08:00:00</td>\n",
              "      <td>08:00:00</td>\n",
              "      <td>Logan-Subway</td>\n",
              "      <td>1</td>\n",
              "      <td>NaN</td>\n",
              "      <td>0</td>\n",
              "      <td>1</td>\n",
              "      <td>0</td>\n",
              "      <td>NaN</td>\n",
              "    </tr>\n",
              "    <tr>\n",
              "      <th>1</th>\n",
              "      <td>Logan-22-Weekday-trip</td>\n",
              "      <td>08:04:00</td>\n",
              "      <td>08:04:00</td>\n",
              "      <td>Logan-RentalCarCenter</td>\n",
              "      <td>2</td>\n",
              "      <td>NaN</td>\n",
              "      <td>0</td>\n",
              "      <td>0</td>\n",
              "      <td>0</td>\n",
              "      <td>NaN</td>\n",
              "    </tr>\n",
              "    <tr>\n",
              "      <th>2</th>\n",
              "      <td>Logan-22-Weekday-trip</td>\n",
              "      <td>08:09:00</td>\n",
              "      <td>08:09:00</td>\n",
              "      <td>Logan-A</td>\n",
              "      <td>3</td>\n",
              "      <td>NaN</td>\n",
              "      <td>0</td>\n",
              "      <td>0</td>\n",
              "      <td>0</td>\n",
              "      <td>NaN</td>\n",
              "    </tr>\n",
              "    <tr>\n",
              "      <th>3</th>\n",
              "      <td>Logan-22-Weekday-trip</td>\n",
              "      <td>08:12:00</td>\n",
              "      <td>08:12:00</td>\n",
              "      <td>Logan-B</td>\n",
              "      <td>4</td>\n",
              "      <td>NaN</td>\n",
              "      <td>0</td>\n",
              "      <td>0</td>\n",
              "      <td>0</td>\n",
              "      <td>NaN</td>\n",
              "    </tr>\n",
              "    <tr>\n",
              "      <th>4</th>\n",
              "      <td>Logan-22-Weekday-trip</td>\n",
              "      <td>08:17:00</td>\n",
              "      <td>08:17:00</td>\n",
              "      <td>Logan-Subway</td>\n",
              "      <td>5</td>\n",
              "      <td>NaN</td>\n",
              "      <td>1</td>\n",
              "      <td>0</td>\n",
              "      <td>0</td>\n",
              "      <td>NaN</td>\n",
              "    </tr>\n",
              "  </tbody>\n",
              "</table>\n",
              "</div>"
            ],
            "text/plain": [
              "                 trip_id arrival_time departure_time                stop_id  \\\n",
              "0  Logan-22-Weekday-trip     08:00:00       08:00:00           Logan-Subway   \n",
              "1  Logan-22-Weekday-trip     08:04:00       08:04:00  Logan-RentalCarCenter   \n",
              "2  Logan-22-Weekday-trip     08:09:00       08:09:00                Logan-A   \n",
              "3  Logan-22-Weekday-trip     08:12:00       08:12:00                Logan-B   \n",
              "4  Logan-22-Weekday-trip     08:17:00       08:17:00           Logan-Subway   \n",
              "\n",
              "  stop_sequence stop_headsign pickup_type drop_off_type timepoint  \\\n",
              "0             1           NaN           0             1         0   \n",
              "1             2           NaN           0             0         0   \n",
              "2             3           NaN           0             0         0   \n",
              "3             4           NaN           0             0         0   \n",
              "4             5           NaN           1             0         0   \n",
              "\n",
              "  checkpoint_id  \n",
              "0           NaN  \n",
              "1           NaN  \n",
              "2           NaN  \n",
              "3           NaN  \n",
              "4           NaN  "
            ]
          },
          "metadata": {
            "tags": []
          },
          "execution_count": 12
        }
      ]
    },
    {
      "metadata": {
        "id": "X8tIak5TMc_N",
        "colab_type": "text"
      },
      "cell_type": "markdown",
      "source": [
        "Unpack the needed trips.txt csv table"
      ]
    },
    {
      "metadata": {
        "id": "3BKrdZWwDTPp",
        "colab_type": "code",
        "colab": {
          "autoexec": {
            "startup": false,
            "wait_interval": 0
          },
          "base_uri": "https://localhost:8080/",
          "height": 198
        },
        "outputId": "21a1f9eb-f23d-43ff-99c7-6ba9c72ef2b9",
        "executionInfo": {
          "status": "ok",
          "timestamp": 1530030069777,
          "user_tz": 240,
          "elapsed": 773,
          "user": {
            "displayName": "jay venti",
            "photoUrl": "//lh5.googleusercontent.com/-tfYlLQFNijE/AAAAAAAAAAI/AAAAAAAAAGA/DvcKQDdGFmw/s50-c-k-no/photo.jpg",
            "userId": "105684942742382661361"
          }
        }
      },
      "cell_type": "code",
      "source": [
        "# 1) get multi_route_trips table\n",
        "route_to_trip = get_zip_item(mbta_feed, \"trips\")\n",
        "route_to_trip.head()"
      ],
      "execution_count": 13,
      "outputs": [
        {
          "output_type": "execute_result",
          "data": {
            "text/html": [
              "<div>\n",
              "<style scoped>\n",
              "    .dataframe tbody tr th:only-of-type {\n",
              "        vertical-align: middle;\n",
              "    }\n",
              "\n",
              "    .dataframe tbody tr th {\n",
              "        vertical-align: top;\n",
              "    }\n",
              "\n",
              "    .dataframe thead th {\n",
              "        text-align: right;\n",
              "    }\n",
              "</style>\n",
              "<table border=\"1\" class=\"dataframe\">\n",
              "  <thead>\n",
              "    <tr style=\"text-align: right;\">\n",
              "      <th></th>\n",
              "      <th>route_id</th>\n",
              "      <th>service_id</th>\n",
              "      <th>trip_id</th>\n",
              "      <th>trip_headsign</th>\n",
              "      <th>trip_short_name</th>\n",
              "      <th>direction_id</th>\n",
              "      <th>block_id</th>\n",
              "      <th>shape_id</th>\n",
              "      <th>wheelchair_accessible</th>\n",
              "      <th>trip_route_type</th>\n",
              "    </tr>\n",
              "  </thead>\n",
              "  <tbody>\n",
              "    <tr>\n",
              "      <th>0</th>\n",
              "      <td>Logan-22</td>\n",
              "      <td>Logan-Weekday</td>\n",
              "      <td>Logan-22-Weekday-trip</td>\n",
              "      <td>Loop</td>\n",
              "      <td>NaN</td>\n",
              "      <td>0</td>\n",
              "      <td>NaN</td>\n",
              "      <td>NaN</td>\n",
              "      <td>1</td>\n",
              "      <td>NaN</td>\n",
              "    </tr>\n",
              "    <tr>\n",
              "      <th>1</th>\n",
              "      <td>Logan-22</td>\n",
              "      <td>Logan-Weekend</td>\n",
              "      <td>Logan-22-Weekend-trip</td>\n",
              "      <td>Loop</td>\n",
              "      <td>NaN</td>\n",
              "      <td>0</td>\n",
              "      <td>NaN</td>\n",
              "      <td>NaN</td>\n",
              "      <td>1</td>\n",
              "      <td>NaN</td>\n",
              "    </tr>\n",
              "    <tr>\n",
              "      <th>2</th>\n",
              "      <td>Logan-33</td>\n",
              "      <td>Logan-Weekday</td>\n",
              "      <td>Logan-33-Weekday-trip</td>\n",
              "      <td>Loop</td>\n",
              "      <td>NaN</td>\n",
              "      <td>0</td>\n",
              "      <td>NaN</td>\n",
              "      <td>NaN</td>\n",
              "      <td>1</td>\n",
              "      <td>NaN</td>\n",
              "    </tr>\n",
              "    <tr>\n",
              "      <th>3</th>\n",
              "      <td>Logan-33</td>\n",
              "      <td>Logan-Weekend</td>\n",
              "      <td>Logan-33-Weekend-trip</td>\n",
              "      <td>Loop</td>\n",
              "      <td>NaN</td>\n",
              "      <td>0</td>\n",
              "      <td>NaN</td>\n",
              "      <td>NaN</td>\n",
              "      <td>1</td>\n",
              "      <td>NaN</td>\n",
              "    </tr>\n",
              "    <tr>\n",
              "      <th>4</th>\n",
              "      <td>Logan-55</td>\n",
              "      <td>Logan-Weekday</td>\n",
              "      <td>Logan-55-Weekday-trip</td>\n",
              "      <td>Loop</td>\n",
              "      <td>NaN</td>\n",
              "      <td>0</td>\n",
              "      <td>NaN</td>\n",
              "      <td>NaN</td>\n",
              "      <td>1</td>\n",
              "      <td>NaN</td>\n",
              "    </tr>\n",
              "  </tbody>\n",
              "</table>\n",
              "</div>"
            ],
            "text/plain": [
              "   route_id     service_id                trip_id trip_headsign  \\\n",
              "0  Logan-22  Logan-Weekday  Logan-22-Weekday-trip          Loop   \n",
              "1  Logan-22  Logan-Weekend  Logan-22-Weekend-trip          Loop   \n",
              "2  Logan-33  Logan-Weekday  Logan-33-Weekday-trip          Loop   \n",
              "3  Logan-33  Logan-Weekend  Logan-33-Weekend-trip          Loop   \n",
              "4  Logan-55  Logan-Weekday  Logan-55-Weekday-trip          Loop   \n",
              "\n",
              "  trip_short_name direction_id block_id shape_id wheelchair_accessible  \\\n",
              "0             NaN            0      NaN      NaN                     1   \n",
              "1             NaN            0      NaN      NaN                     1   \n",
              "2             NaN            0      NaN      NaN                     1   \n",
              "3             NaN            0      NaN      NaN                     1   \n",
              "4             NaN            0      NaN      NaN                     1   \n",
              "\n",
              "  trip_route_type  \n",
              "0             NaN  \n",
              "1             NaN  \n",
              "2             NaN  \n",
              "3             NaN  \n",
              "4             NaN  "
            ]
          },
          "metadata": {
            "tags": []
          },
          "execution_count": 13
        }
      ]
    },
    {
      "metadata": {
        "id": "dneL_6U-MqFP",
        "colab_type": "text"
      },
      "cell_type": "markdown",
      "source": [
        "Now join or in panda merge stops_df, route_to_trip, on=[\"trip_id\"] this will allow us to look at records for a given busstop and given route."
      ]
    },
    {
      "metadata": {
        "id": "uCVyXLrCnNhh",
        "colab_type": "code",
        "colab": {
          "autoexec": {
            "startup": false,
            "wait_interval": 0
          },
          "base_uri": "https://localhost:8080/",
          "height": 232
        },
        "outputId": "82c68db9-a036-45ce-c374-7096812d5b7c",
        "executionInfo": {
          "status": "ok",
          "timestamp": 1530030073994,
          "user_tz": 240,
          "elapsed": 498,
          "user": {
            "displayName": "jay venti",
            "photoUrl": "//lh5.googleusercontent.com/-tfYlLQFNijE/AAAAAAAAAAI/AAAAAAAAAGA/DvcKQDdGFmw/s50-c-k-no/photo.jpg",
            "userId": "105684942742382661361"
          }
        }
      },
      "cell_type": "code",
      "source": [
        "##############################################################################################\n",
        "# Join join >no trip_id=trip_id for stops_df, multi_route_trips < geting added_route_id\n",
        "\n",
        "stop_times = pd.merge(stops_df, route_to_trip, on=[\"trip_id\"])\n",
        "stop_times.head(2)\n",
        "\n"
      ],
      "execution_count": 14,
      "outputs": [
        {
          "output_type": "execute_result",
          "data": {
            "text/html": [
              "<div>\n",
              "<style scoped>\n",
              "    .dataframe tbody tr th:only-of-type {\n",
              "        vertical-align: middle;\n",
              "    }\n",
              "\n",
              "    .dataframe tbody tr th {\n",
              "        vertical-align: top;\n",
              "    }\n",
              "\n",
              "    .dataframe thead th {\n",
              "        text-align: right;\n",
              "    }\n",
              "</style>\n",
              "<table border=\"1\" class=\"dataframe\">\n",
              "  <thead>\n",
              "    <tr style=\"text-align: right;\">\n",
              "      <th></th>\n",
              "      <th>trip_id</th>\n",
              "      <th>trip_start</th>\n",
              "      <th>stop_id</th>\n",
              "      <th>stop_sequence</th>\n",
              "      <th>vehicle_id</th>\n",
              "      <th>status</th>\n",
              "      <th>timestamp</th>\n",
              "      <th>route_id</th>\n",
              "      <th>service_id</th>\n",
              "      <th>trip_headsign</th>\n",
              "      <th>trip_short_name</th>\n",
              "      <th>direction_id</th>\n",
              "      <th>block_id</th>\n",
              "      <th>shape_id</th>\n",
              "      <th>wheelchair_accessible</th>\n",
              "      <th>trip_route_type</th>\n",
              "    </tr>\n",
              "  </thead>\n",
              "  <tbody>\n",
              "    <tr>\n",
              "      <th>0</th>\n",
              "      <td>35793582</td>\n",
              "      <td>2018-01-09</td>\n",
              "      <td>343</td>\n",
              "      <td>9</td>\n",
              "      <td>y1891</td>\n",
              "      <td>STOPPED_AT</td>\n",
              "      <td>2018-01-09 08:29:57</td>\n",
              "      <td>15</td>\n",
              "      <td>BUS12018-hbc18011-Weekday-02</td>\n",
              "      <td>Dudley via Fields Corner</td>\n",
              "      <td>NaN</td>\n",
              "      <td>1</td>\n",
              "      <td>C11-113</td>\n",
              "      <td>150082</td>\n",
              "      <td>1</td>\n",
              "      <td>NaN</td>\n",
              "    </tr>\n",
              "    <tr>\n",
              "      <th>1</th>\n",
              "      <td>35793582</td>\n",
              "      <td>2018-01-09</td>\n",
              "      <td>322</td>\n",
              "      <td>11</td>\n",
              "      <td>y1891</td>\n",
              "      <td>STOPPED_AT</td>\n",
              "      <td>2018-01-09 08:31:57</td>\n",
              "      <td>15</td>\n",
              "      <td>BUS12018-hbc18011-Weekday-02</td>\n",
              "      <td>Dudley via Fields Corner</td>\n",
              "      <td>NaN</td>\n",
              "      <td>1</td>\n",
              "      <td>C11-113</td>\n",
              "      <td>150082</td>\n",
              "      <td>1</td>\n",
              "      <td>NaN</td>\n",
              "    </tr>\n",
              "  </tbody>\n",
              "</table>\n",
              "</div>"
            ],
            "text/plain": [
              "    trip_id  trip_start stop_id  stop_sequence vehicle_id      status  \\\n",
              "0  35793582  2018-01-09     343              9      y1891  STOPPED_AT   \n",
              "1  35793582  2018-01-09     322             11      y1891  STOPPED_AT   \n",
              "\n",
              "             timestamp route_id                    service_id  \\\n",
              "0  2018-01-09 08:29:57       15  BUS12018-hbc18011-Weekday-02   \n",
              "1  2018-01-09 08:31:57       15  BUS12018-hbc18011-Weekday-02   \n",
              "\n",
              "              trip_headsign trip_short_name direction_id block_id shape_id  \\\n",
              "0  Dudley via Fields Corner             NaN            1  C11-113   150082   \n",
              "1  Dudley via Fields Corner             NaN            1  C11-113   150082   \n",
              "\n",
              "  wheelchair_accessible trip_route_type  \n",
              "0                     1             NaN  \n",
              "1                     1             NaN  "
            ]
          },
          "metadata": {
            "tags": []
          },
          "execution_count": 14
        }
      ]
    },
    {
      "metadata": {
        "id": "QdSPUypmNXTA",
        "colab_type": "text"
      },
      "cell_type": "markdown",
      "source": [
        "Iit's now necessary to remove records of timestamps where a bus sits still at a given stop. Which buses do when they're on break war at the end of the line before they start moving on a new trip. We'd start by sorting in route stop vehicle order, then we remove duplicates."
      ]
    },
    {
      "metadata": {
        "id": "nWESqK38zjOT",
        "colab_type": "code",
        "colab": {
          "autoexec": {
            "startup": false,
            "wait_interval": 0
          },
          "base_uri": "https://localhost:8080/",
          "height": 232
        },
        "outputId": "e1af2bbd-f91d-495d-8323-c961553e909f",
        "executionInfo": {
          "status": "ok",
          "timestamp": 1530030076952,
          "user_tz": 240,
          "elapsed": 800,
          "user": {
            "displayName": "jay venti",
            "photoUrl": "//lh5.googleusercontent.com/-tfYlLQFNijE/AAAAAAAAAAI/AAAAAAAAAGA/DvcKQDdGFmw/s50-c-k-no/photo.jpg",
            "userId": "105684942742382661361"
          }
        }
      },
      "cell_type": "code",
      "source": [
        "# Build stops_sorted_df using sort function\n",
        "stops_sort_df = stop_times.sort_values(['stop_id', 'route_id','vehicle_id',  'timestamp'])#,ascending=False\n",
        "\n",
        "# fun test for our favorite bus route\n",
        "# only ruot 70 in busis at stopes\n",
        "# mask = stops_sort_df[\"route_id\"] == \"70\"\n",
        "# stops_sort_df[mask].head()\n",
        "\n",
        "stops_sort_df.head(2)"
      ],
      "execution_count": 15,
      "outputs": [
        {
          "output_type": "execute_result",
          "data": {
            "text/html": [
              "<div>\n",
              "<style scoped>\n",
              "    .dataframe tbody tr th:only-of-type {\n",
              "        vertical-align: middle;\n",
              "    }\n",
              "\n",
              "    .dataframe tbody tr th {\n",
              "        vertical-align: top;\n",
              "    }\n",
              "\n",
              "    .dataframe thead th {\n",
              "        text-align: right;\n",
              "    }\n",
              "</style>\n",
              "<table border=\"1\" class=\"dataframe\">\n",
              "  <thead>\n",
              "    <tr style=\"text-align: right;\">\n",
              "      <th></th>\n",
              "      <th>trip_id</th>\n",
              "      <th>trip_start</th>\n",
              "      <th>stop_id</th>\n",
              "      <th>stop_sequence</th>\n",
              "      <th>vehicle_id</th>\n",
              "      <th>status</th>\n",
              "      <th>timestamp</th>\n",
              "      <th>route_id</th>\n",
              "      <th>service_id</th>\n",
              "      <th>trip_headsign</th>\n",
              "      <th>trip_short_name</th>\n",
              "      <th>direction_id</th>\n",
              "      <th>block_id</th>\n",
              "      <th>shape_id</th>\n",
              "      <th>wheelchair_accessible</th>\n",
              "      <th>trip_route_type</th>\n",
              "    </tr>\n",
              "  </thead>\n",
              "  <tbody>\n",
              "    <tr>\n",
              "      <th>196445</th>\n",
              "      <td>35794607</td>\n",
              "      <td>2018-01-09</td>\n",
              "      <td>1</td>\n",
              "      <td>2</td>\n",
              "      <td>y1728</td>\n",
              "      <td>STOPPED_AT</td>\n",
              "      <td>2018-01-09 21:54:16</td>\n",
              "      <td>1</td>\n",
              "      <td>BUS12018-hbc18011-Weekday-02</td>\n",
              "      <td>Harvard</td>\n",
              "      <td>NaN</td>\n",
              "      <td>0</td>\n",
              "      <td>C01-19</td>\n",
              "      <td>010038</td>\n",
              "      <td>1</td>\n",
              "      <td>NaN</td>\n",
              "    </tr>\n",
              "    <tr>\n",
              "      <th>264650</th>\n",
              "      <td>35794582</td>\n",
              "      <td>2018-01-09</td>\n",
              "      <td>1</td>\n",
              "      <td>2</td>\n",
              "      <td>y1728</td>\n",
              "      <td>STOPPED_AT</td>\n",
              "      <td>2018-01-10 03:25:48</td>\n",
              "      <td>1</td>\n",
              "      <td>BUS12018-hbc18011-Weekday-02</td>\n",
              "      <td>Harvard</td>\n",
              "      <td>NaN</td>\n",
              "      <td>0</td>\n",
              "      <td>C01-25</td>\n",
              "      <td>010038</td>\n",
              "      <td>1</td>\n",
              "      <td>NaN</td>\n",
              "    </tr>\n",
              "  </tbody>\n",
              "</table>\n",
              "</div>"
            ],
            "text/plain": [
              "         trip_id  trip_start stop_id  stop_sequence vehicle_id      status  \\\n",
              "196445  35794607  2018-01-09       1              2      y1728  STOPPED_AT   \n",
              "264650  35794582  2018-01-09       1              2      y1728  STOPPED_AT   \n",
              "\n",
              "                  timestamp route_id                    service_id  \\\n",
              "196445  2018-01-09 21:54:16        1  BUS12018-hbc18011-Weekday-02   \n",
              "264650  2018-01-10 03:25:48        1  BUS12018-hbc18011-Weekday-02   \n",
              "\n",
              "       trip_headsign trip_short_name direction_id block_id shape_id  \\\n",
              "196445       Harvard             NaN            0   C01-19   010038   \n",
              "264650       Harvard             NaN            0   C01-25   010038   \n",
              "\n",
              "       wheelchair_accessible trip_route_type  \n",
              "196445                     1             NaN  \n",
              "264650                     1             NaN  "
            ]
          },
          "metadata": {
            "tags": []
          },
          "execution_count": 15
        }
      ]
    },
    {
      "metadata": {
        "id": "iTqof-ht0xVI",
        "colab_type": "code",
        "colab": {
          "autoexec": {
            "startup": false,
            "wait_interval": 0
          },
          "base_uri": "https://localhost:8080/",
          "height": 198
        },
        "outputId": "e6d47578-a359-4dc9-a40b-86ec440f0209",
        "executionInfo": {
          "status": "ok",
          "timestamp": 1530030083137,
          "user_tz": 240,
          "elapsed": 949,
          "user": {
            "displayName": "jay venti",
            "photoUrl": "//lh5.googleusercontent.com/-tfYlLQFNijE/AAAAAAAAAAI/AAAAAAAAAGA/DvcKQDdGFmw/s50-c-k-no/photo.jpg",
            "userId": "105684942742382661361"
          }
        }
      },
      "cell_type": "code",
      "source": [
        "''' \n",
        "Build a col which determines if a bus has just arrived at a stop, \n",
        "opposed to having been waiting at a stop for multiple readings.\n",
        "this is determined by looking at whether a bus stop remains the same and whether the bus has changed.\n",
        "This is dependent on the data frame being in stop, bus sort order.\n",
        "'''\n",
        "stops_sort_df[\"new_stop\"] = (stops_sort_df.vehicle_id != stops_sort_df.vehicle_id.shift()) \\\n",
        "  & (stops_sort_df.stop_id == stops_sort_df.stop_id.shift()) \\\n",
        "  & (stops_sort_df.route_id == stops_sort_df.route_id.shift())\n",
        "# remove cluter\n",
        "stops_sort_df = stops_sort_df.drop(\"service_id\", 1, errors='ignore')\n",
        "stops_sort_df = stops_sort_df.drop(\"trip_short_name\", 1, errors='ignore')\n",
        "stops_sort_df = stops_sort_df.drop(\"wheelchair_accessible\", 1, errors='ignore')\n",
        "stops_sort_df = stops_sort_df.drop(\"trip_route_type\", 1, errors='ignore')\n",
        "stops_sort_df = stops_sort_df.drop(\"shape_id\", 1, errors='ignore')\n",
        "stops_sort_df = stops_sort_df.drop(\"block_id\", 1, errors='ignore')\n",
        "stops_sort_df = stops_sort_df.drop(\"trip_headsign\", 1, errors='ignore')\n",
        "stops_sort_df.head()"
      ],
      "execution_count": 16,
      "outputs": [
        {
          "output_type": "execute_result",
          "data": {
            "text/html": [
              "<div>\n",
              "<style scoped>\n",
              "    .dataframe tbody tr th:only-of-type {\n",
              "        vertical-align: middle;\n",
              "    }\n",
              "\n",
              "    .dataframe tbody tr th {\n",
              "        vertical-align: top;\n",
              "    }\n",
              "\n",
              "    .dataframe thead th {\n",
              "        text-align: right;\n",
              "    }\n",
              "</style>\n",
              "<table border=\"1\" class=\"dataframe\">\n",
              "  <thead>\n",
              "    <tr style=\"text-align: right;\">\n",
              "      <th></th>\n",
              "      <th>trip_id</th>\n",
              "      <th>trip_start</th>\n",
              "      <th>stop_id</th>\n",
              "      <th>stop_sequence</th>\n",
              "      <th>vehicle_id</th>\n",
              "      <th>status</th>\n",
              "      <th>timestamp</th>\n",
              "      <th>route_id</th>\n",
              "      <th>direction_id</th>\n",
              "      <th>new_stop</th>\n",
              "    </tr>\n",
              "  </thead>\n",
              "  <tbody>\n",
              "    <tr>\n",
              "      <th>196445</th>\n",
              "      <td>35794607</td>\n",
              "      <td>2018-01-09</td>\n",
              "      <td>1</td>\n",
              "      <td>2</td>\n",
              "      <td>y1728</td>\n",
              "      <td>STOPPED_AT</td>\n",
              "      <td>2018-01-09 21:54:16</td>\n",
              "      <td>1</td>\n",
              "      <td>0</td>\n",
              "      <td>False</td>\n",
              "    </tr>\n",
              "    <tr>\n",
              "      <th>264650</th>\n",
              "      <td>35794582</td>\n",
              "      <td>2018-01-09</td>\n",
              "      <td>1</td>\n",
              "      <td>2</td>\n",
              "      <td>y1728</td>\n",
              "      <td>STOPPED_AT</td>\n",
              "      <td>2018-01-10 03:25:48</td>\n",
              "      <td>1</td>\n",
              "      <td>0</td>\n",
              "      <td>False</td>\n",
              "    </tr>\n",
              "    <tr>\n",
              "      <th>270022</th>\n",
              "      <td>35794545</td>\n",
              "      <td>2018-01-09</td>\n",
              "      <td>1</td>\n",
              "      <td>2</td>\n",
              "      <td>y1728</td>\n",
              "      <td>STOPPED_AT</td>\n",
              "      <td>2018-01-10 04:32:50</td>\n",
              "      <td>1</td>\n",
              "      <td>0</td>\n",
              "      <td>False</td>\n",
              "    </tr>\n",
              "    <tr>\n",
              "      <th>275653</th>\n",
              "      <td>35794551</td>\n",
              "      <td>2018-01-09</td>\n",
              "      <td>1</td>\n",
              "      <td>2</td>\n",
              "      <td>y1728</td>\n",
              "      <td>STOPPED_AT</td>\n",
              "      <td>2018-01-10 05:43:45</td>\n",
              "      <td>1</td>\n",
              "      <td>0</td>\n",
              "      <td>False</td>\n",
              "    </tr>\n",
              "    <tr>\n",
              "      <th>198002</th>\n",
              "      <td>35794562</td>\n",
              "      <td>2018-01-09</td>\n",
              "      <td>1</td>\n",
              "      <td>2</td>\n",
              "      <td>y1737</td>\n",
              "      <td>STOPPED_AT</td>\n",
              "      <td>2018-01-09 22:10:59</td>\n",
              "      <td>1</td>\n",
              "      <td>0</td>\n",
              "      <td>True</td>\n",
              "    </tr>\n",
              "  </tbody>\n",
              "</table>\n",
              "</div>"
            ],
            "text/plain": [
              "         trip_id  trip_start stop_id  stop_sequence vehicle_id      status  \\\n",
              "196445  35794607  2018-01-09       1              2      y1728  STOPPED_AT   \n",
              "264650  35794582  2018-01-09       1              2      y1728  STOPPED_AT   \n",
              "270022  35794545  2018-01-09       1              2      y1728  STOPPED_AT   \n",
              "275653  35794551  2018-01-09       1              2      y1728  STOPPED_AT   \n",
              "198002  35794562  2018-01-09       1              2      y1737  STOPPED_AT   \n",
              "\n",
              "                  timestamp route_id direction_id  new_stop  \n",
              "196445  2018-01-09 21:54:16        1            0     False  \n",
              "264650  2018-01-10 03:25:48        1            0     False  \n",
              "270022  2018-01-10 04:32:50        1            0     False  \n",
              "275653  2018-01-10 05:43:45        1            0     False  \n",
              "198002  2018-01-09 22:10:59        1            0      True  "
            ]
          },
          "metadata": {
            "tags": []
          },
          "execution_count": 16
        }
      ]
    },
    {
      "metadata": {
        "id": "zPfKfPQwN40b",
        "colab_type": "text"
      },
      "cell_type": "markdown",
      "source": [
        "Now we simply remove cases where a bus has not moved using the test value new_stop"
      ]
    },
    {
      "metadata": {
        "id": "FTnTMgZcplEv",
        "colab_type": "code",
        "colab": {
          "autoexec": {
            "startup": false,
            "wait_interval": 0
          },
          "base_uri": "https://localhost:8080/",
          "height": 198
        },
        "outputId": "c82b5740-e664-4acd-f525-3cfea593469a",
        "executionInfo": {
          "status": "ok",
          "timestamp": 1530030087407,
          "user_tz": 240,
          "elapsed": 415,
          "user": {
            "displayName": "jay venti",
            "photoUrl": "//lh5.googleusercontent.com/-tfYlLQFNijE/AAAAAAAAAAI/AAAAAAAAAGA/DvcKQDdGFmw/s50-c-k-no/photo.jpg",
            "userId": "105684942742382661361"
          }
        }
      },
      "cell_type": "code",
      "source": [
        "# mask out bad rows\n",
        "# generate new bus_moves_sorted df with only record with them plus has moved from one stop to the next \n",
        "# still in busstop bus sort order\n",
        "bus_moves_mask = stops_sort_df[\"new_stop\"]\n",
        "stops_sort_df =stops_sort_df[bus_moves_mask]\n",
        "stops_sort_df.head()"
      ],
      "execution_count": 17,
      "outputs": [
        {
          "output_type": "execute_result",
          "data": {
            "text/html": [
              "<div>\n",
              "<style scoped>\n",
              "    .dataframe tbody tr th:only-of-type {\n",
              "        vertical-align: middle;\n",
              "    }\n",
              "\n",
              "    .dataframe tbody tr th {\n",
              "        vertical-align: top;\n",
              "    }\n",
              "\n",
              "    .dataframe thead th {\n",
              "        text-align: right;\n",
              "    }\n",
              "</style>\n",
              "<table border=\"1\" class=\"dataframe\">\n",
              "  <thead>\n",
              "    <tr style=\"text-align: right;\">\n",
              "      <th></th>\n",
              "      <th>trip_id</th>\n",
              "      <th>trip_start</th>\n",
              "      <th>stop_id</th>\n",
              "      <th>stop_sequence</th>\n",
              "      <th>vehicle_id</th>\n",
              "      <th>status</th>\n",
              "      <th>timestamp</th>\n",
              "      <th>route_id</th>\n",
              "      <th>direction_id</th>\n",
              "      <th>new_stop</th>\n",
              "    </tr>\n",
              "  </thead>\n",
              "  <tbody>\n",
              "    <tr>\n",
              "      <th>198002</th>\n",
              "      <td>35794562</td>\n",
              "      <td>2018-01-09</td>\n",
              "      <td>1</td>\n",
              "      <td>2</td>\n",
              "      <td>y1737</td>\n",
              "      <td>STOPPED_AT</td>\n",
              "      <td>2018-01-09 22:10:59</td>\n",
              "      <td>1</td>\n",
              "      <td>0</td>\n",
              "      <td>True</td>\n",
              "    </tr>\n",
              "    <tr>\n",
              "      <th>143357</th>\n",
              "      <td>35795176</td>\n",
              "      <td>2018-01-09</td>\n",
              "      <td>1</td>\n",
              "      <td>2</td>\n",
              "      <td>y1742</td>\n",
              "      <td>STOPPED_AT</td>\n",
              "      <td>2018-01-09 19:12:35</td>\n",
              "      <td>1</td>\n",
              "      <td>0</td>\n",
              "      <td>True</td>\n",
              "    </tr>\n",
              "    <tr>\n",
              "      <th>204182</th>\n",
              "      <td>35794589</td>\n",
              "      <td>2018-01-09</td>\n",
              "      <td>1</td>\n",
              "      <td>2</td>\n",
              "      <td>y1752</td>\n",
              "      <td>STOPPED_AT</td>\n",
              "      <td>2018-01-09 22:11:43</td>\n",
              "      <td>1</td>\n",
              "      <td>0</td>\n",
              "      <td>True</td>\n",
              "    </tr>\n",
              "    <tr>\n",
              "      <th>162901</th>\n",
              "      <td>35794588</td>\n",
              "      <td>2018-01-09</td>\n",
              "      <td>1</td>\n",
              "      <td>2</td>\n",
              "      <td>y1791</td>\n",
              "      <td>STOPPED_AT</td>\n",
              "      <td>2018-01-09 20:14:58</td>\n",
              "      <td>1</td>\n",
              "      <td>0</td>\n",
              "      <td>True</td>\n",
              "    </tr>\n",
              "    <tr>\n",
              "      <th>5576</th>\n",
              "      <td>35794736</td>\n",
              "      <td>2018-01-09</td>\n",
              "      <td>1</td>\n",
              "      <td>2</td>\n",
              "      <td>y1807</td>\n",
              "      <td>STOPPED_AT</td>\n",
              "      <td>2018-01-09 10:48:12</td>\n",
              "      <td>1</td>\n",
              "      <td>0</td>\n",
              "      <td>True</td>\n",
              "    </tr>\n",
              "  </tbody>\n",
              "</table>\n",
              "</div>"
            ],
            "text/plain": [
              "         trip_id  trip_start stop_id  stop_sequence vehicle_id      status  \\\n",
              "198002  35794562  2018-01-09       1              2      y1737  STOPPED_AT   \n",
              "143357  35795176  2018-01-09       1              2      y1742  STOPPED_AT   \n",
              "204182  35794589  2018-01-09       1              2      y1752  STOPPED_AT   \n",
              "162901  35794588  2018-01-09       1              2      y1791  STOPPED_AT   \n",
              "5576    35794736  2018-01-09       1              2      y1807  STOPPED_AT   \n",
              "\n",
              "                  timestamp route_id direction_id  new_stop  \n",
              "198002  2018-01-09 22:10:59        1            0      True  \n",
              "143357  2018-01-09 19:12:35        1            0      True  \n",
              "204182  2018-01-09 22:11:43        1            0      True  \n",
              "162901  2018-01-09 20:14:58        1            0      True  \n",
              "5576    2018-01-09 10:48:12        1            0      True  "
            ]
          },
          "metadata": {
            "tags": []
          },
          "execution_count": 17
        }
      ]
    },
    {
      "metadata": {
        "id": "QkPaN67vOErb",
        "colab_type": "text"
      },
      "cell_type": "markdown",
      "source": [
        "We need to now convert our time values which are in string format into actual datetime format for difference comparison and following steps."
      ]
    },
    {
      "metadata": {
        "id": "iyrL6U3tXZTM",
        "colab_type": "code",
        "colab": {
          "autoexec": {
            "startup": false,
            "wait_interval": 0
          }
        }
      },
      "cell_type": "code",
      "source": [
        "from datetime import datetime\n",
        "from pytz import timezone\n",
        "import pytz\n",
        "import time\n",
        "\n",
        "\n",
        "\n",
        "def cnvt_ts_str2dt(ts_str):\n",
        "  est = timezone('US/Eastern')\n",
        "  utc = pytz.utc\n",
        "  dt_format = \"%Y-%m-%d %H:%M:%S\"    \n",
        "  dt_obj = datetime.strptime(ts_str, dt_format)    \n",
        "  utc_dt = dt_obj.replace(tzinfo=utc)    \n",
        "  return utc_dt.astimezone(est) #est.localize(datetime.strptime(ts_str, dt_format))\n",
        "\n",
        "\n"
      ],
      "execution_count": 0,
      "outputs": []
    },
    {
      "metadata": {
        "id": "HBtnYN4EjKc_",
        "colab_type": "code",
        "colab": {
          "autoexec": {
            "startup": false,
            "wait_interval": 0
          },
          "base_uri": "https://localhost:8080/",
          "height": 35
        },
        "outputId": "b17490e9-b249-4903-fc24-1d4982c721d5",
        "executionInfo": {
          "status": "ok",
          "timestamp": 1530030093941,
          "user_tz": 240,
          "elapsed": 597,
          "user": {
            "displayName": "jay venti",
            "photoUrl": "//lh5.googleusercontent.com/-tfYlLQFNijE/AAAAAAAAAAI/AAAAAAAAAGA/DvcKQDdGFmw/s50-c-k-no/photo.jpg",
            "userId": "105684942742382661361"
          }
        }
      },
      "cell_type": "code",
      "source": [
        "test_time ='2018-01-09 22:10:59'\n",
        "test_ese = cnvt_ts_str2dt(test_time)\n",
        "print(test_ese.strftime(\"%Y-%m-%d %H:%M:%S\"))"
      ],
      "execution_count": 19,
      "outputs": [
        {
          "output_type": "stream",
          "text": [
            "2018-01-09 17:10:59\n"
          ],
          "name": "stdout"
        }
      ]
    },
    {
      "metadata": {
        "id": "SPQIAE0LX87o",
        "colab_type": "code",
        "colab": {
          "autoexec": {
            "startup": false,
            "wait_interval": 0
          },
          "base_uri": "https://localhost:8080/",
          "height": 198
        },
        "outputId": "a35486fd-ec76-46f2-e18a-f582c7da448d",
        "executionInfo": {
          "status": "ok",
          "timestamp": 1530030099315,
          "user_tz": 240,
          "elapsed": 3173,
          "user": {
            "displayName": "jay venti",
            "photoUrl": "//lh5.googleusercontent.com/-tfYlLQFNijE/AAAAAAAAAAI/AAAAAAAAAGA/DvcKQDdGFmw/s50-c-k-no/photo.jpg",
            "userId": "105684942742382661361"
          }
        }
      },
      "cell_type": "code",
      "source": [
        "# build column with a real date time field type for using daytime functions\n",
        "stop_dt_df = stops_sort_df[\"timestamp\"].apply(cnvt_ts_str2dt)\n",
        "stops_sort_df[\"stop_dt\"] = stop_dt_df\n",
        "#stops_sort_df = stops_sort_df.drop(\"timestamp\", 1, errors='ignore')\n",
        "\n",
        "stops_sort_df.head()\n",
        "#print(stops_sort_df[\"stop_dt\"].apply(type).head(1))"
      ],
      "execution_count": 20,
      "outputs": [
        {
          "output_type": "execute_result",
          "data": {
            "text/html": [
              "<div>\n",
              "<style scoped>\n",
              "    .dataframe tbody tr th:only-of-type {\n",
              "        vertical-align: middle;\n",
              "    }\n",
              "\n",
              "    .dataframe tbody tr th {\n",
              "        vertical-align: top;\n",
              "    }\n",
              "\n",
              "    .dataframe thead th {\n",
              "        text-align: right;\n",
              "    }\n",
              "</style>\n",
              "<table border=\"1\" class=\"dataframe\">\n",
              "  <thead>\n",
              "    <tr style=\"text-align: right;\">\n",
              "      <th></th>\n",
              "      <th>trip_id</th>\n",
              "      <th>trip_start</th>\n",
              "      <th>stop_id</th>\n",
              "      <th>stop_sequence</th>\n",
              "      <th>vehicle_id</th>\n",
              "      <th>status</th>\n",
              "      <th>timestamp</th>\n",
              "      <th>route_id</th>\n",
              "      <th>direction_id</th>\n",
              "      <th>new_stop</th>\n",
              "      <th>stop_dt</th>\n",
              "    </tr>\n",
              "  </thead>\n",
              "  <tbody>\n",
              "    <tr>\n",
              "      <th>198002</th>\n",
              "      <td>35794562</td>\n",
              "      <td>2018-01-09</td>\n",
              "      <td>1</td>\n",
              "      <td>2</td>\n",
              "      <td>y1737</td>\n",
              "      <td>STOPPED_AT</td>\n",
              "      <td>2018-01-09 22:10:59</td>\n",
              "      <td>1</td>\n",
              "      <td>0</td>\n",
              "      <td>True</td>\n",
              "      <td>2018-01-09 17:10:59-05:00</td>\n",
              "    </tr>\n",
              "    <tr>\n",
              "      <th>143357</th>\n",
              "      <td>35795176</td>\n",
              "      <td>2018-01-09</td>\n",
              "      <td>1</td>\n",
              "      <td>2</td>\n",
              "      <td>y1742</td>\n",
              "      <td>STOPPED_AT</td>\n",
              "      <td>2018-01-09 19:12:35</td>\n",
              "      <td>1</td>\n",
              "      <td>0</td>\n",
              "      <td>True</td>\n",
              "      <td>2018-01-09 14:12:35-05:00</td>\n",
              "    </tr>\n",
              "    <tr>\n",
              "      <th>204182</th>\n",
              "      <td>35794589</td>\n",
              "      <td>2018-01-09</td>\n",
              "      <td>1</td>\n",
              "      <td>2</td>\n",
              "      <td>y1752</td>\n",
              "      <td>STOPPED_AT</td>\n",
              "      <td>2018-01-09 22:11:43</td>\n",
              "      <td>1</td>\n",
              "      <td>0</td>\n",
              "      <td>True</td>\n",
              "      <td>2018-01-09 17:11:43-05:00</td>\n",
              "    </tr>\n",
              "    <tr>\n",
              "      <th>162901</th>\n",
              "      <td>35794588</td>\n",
              "      <td>2018-01-09</td>\n",
              "      <td>1</td>\n",
              "      <td>2</td>\n",
              "      <td>y1791</td>\n",
              "      <td>STOPPED_AT</td>\n",
              "      <td>2018-01-09 20:14:58</td>\n",
              "      <td>1</td>\n",
              "      <td>0</td>\n",
              "      <td>True</td>\n",
              "      <td>2018-01-09 15:14:58-05:00</td>\n",
              "    </tr>\n",
              "    <tr>\n",
              "      <th>5576</th>\n",
              "      <td>35794736</td>\n",
              "      <td>2018-01-09</td>\n",
              "      <td>1</td>\n",
              "      <td>2</td>\n",
              "      <td>y1807</td>\n",
              "      <td>STOPPED_AT</td>\n",
              "      <td>2018-01-09 10:48:12</td>\n",
              "      <td>1</td>\n",
              "      <td>0</td>\n",
              "      <td>True</td>\n",
              "      <td>2018-01-09 05:48:12-05:00</td>\n",
              "    </tr>\n",
              "  </tbody>\n",
              "</table>\n",
              "</div>"
            ],
            "text/plain": [
              "         trip_id  trip_start stop_id  stop_sequence vehicle_id      status  \\\n",
              "198002  35794562  2018-01-09       1              2      y1737  STOPPED_AT   \n",
              "143357  35795176  2018-01-09       1              2      y1742  STOPPED_AT   \n",
              "204182  35794589  2018-01-09       1              2      y1752  STOPPED_AT   \n",
              "162901  35794588  2018-01-09       1              2      y1791  STOPPED_AT   \n",
              "5576    35794736  2018-01-09       1              2      y1807  STOPPED_AT   \n",
              "\n",
              "                  timestamp route_id direction_id  new_stop  \\\n",
              "198002  2018-01-09 22:10:59        1            0      True   \n",
              "143357  2018-01-09 19:12:35        1            0      True   \n",
              "204182  2018-01-09 22:11:43        1            0      True   \n",
              "162901  2018-01-09 20:14:58        1            0      True   \n",
              "5576    2018-01-09 10:48:12        1            0      True   \n",
              "\n",
              "                         stop_dt  \n",
              "198002 2018-01-09 17:10:59-05:00  \n",
              "143357 2018-01-09 14:12:35-05:00  \n",
              "204182 2018-01-09 17:11:43-05:00  \n",
              "162901 2018-01-09 15:14:58-05:00  \n",
              "5576   2018-01-09 05:48:12-05:00  "
            ]
          },
          "metadata": {
            "tags": []
          },
          "execution_count": 20
        }
      ]
    },
    {
      "metadata": {
        "id": "L4fslbotOTFd",
        "colab_type": "text"
      },
      "cell_type": "markdown",
      "source": [
        "This is a key step, we can now determine wait times at a given stop for buses on a specific route. This is available via the panda diff() function working on the stop_dt datetime col."
      ]
    },
    {
      "metadata": {
        "id": "yfEtPwLyBOd4",
        "colab_type": "code",
        "colab": {
          "autoexec": {
            "startup": false,
            "wait_interval": 0
          }
        }
      },
      "cell_type": "code",
      "source": [
        "##############################################\n",
        "#  waiting for next bus for a given route\n",
        "##############################################\n",
        "stops_sort_df = stops_sort_df.sort_values(['stop_id', 'route_id','stop_dt'])\n",
        "stops_sort_df['bus1_wait'] = stops_sort_df.groupby(['stop_id', 'route_id'])['stop_dt'].diff(1)\n",
        "stops_sort_df['bus2_wait'] = stops_sort_df.groupby(['stop_id', 'route_id'])['stop_dt'].diff(2)\n",
        "stops_sort_df['bus3_wait'] = stops_sort_df.groupby(['stop_id', 'route_id'])['stop_dt'].diff(3)\n",
        "\n"
      ],
      "execution_count": 0,
      "outputs": []
    },
    {
      "metadata": {
        "id": "xcvhhmk_aYAA",
        "colab_type": "code",
        "colab": {
          "autoexec": {
            "startup": false,
            "wait_interval": 0
          }
        }
      },
      "cell_type": "code",
      "source": [
        "# let us work with sec not datetime values for the \n",
        "stops_sort_df['wait1'] = stops_sort_df['bus1_wait'].dt.total_seconds()\n",
        "stops_sort_df['wait2'] = stops_sort_df['bus2_wait'].dt.total_seconds()\n",
        "stops_sort_df['wait3'] = stops_sort_df['bus3_wait'].dt.total_seconds()"
      ],
      "execution_count": 0,
      "outputs": []
    },
    {
      "metadata": {
        "id": "G30NNii6PH3H",
        "colab_type": "code",
        "colab": {
          "autoexec": {
            "startup": false,
            "wait_interval": 0
          }
        }
      },
      "cell_type": "code",
      "source": [
        "# lets look at only route 70 temp test\n",
        "# mask = stops_sort_df[\"route_id\"] == \"70\"\n",
        "# stops_sort_df = stops_sort_df[mask]\n",
        "# stops_sort_df.head()\n"
      ],
      "execution_count": 0,
      "outputs": []
    },
    {
      "metadata": {
        "id": "1lymtfL7gR0k",
        "colab_type": "code",
        "colab": {
          "autoexec": {
            "startup": false,
            "wait_interval": 0
          },
          "base_uri": "https://localhost:8080/",
          "height": 477
        },
        "outputId": "71fc2dc7-00c5-4e40-eaeb-ad52d6f3548a",
        "executionInfo": {
          "status": "ok",
          "timestamp": 1530030117838,
          "user_tz": 240,
          "elapsed": 0,
          "user": {
            "displayName": "jay venti",
            "photoUrl": "//lh5.googleusercontent.com/-tfYlLQFNijE/AAAAAAAAAAI/AAAAAAAAAGA/DvcKQDdGFmw/s50-c-k-no/photo.jpg",
            "userId": "105684942742382661361"
          }
        }
      },
      "cell_type": "code",
      "source": [
        "##################################################\n",
        "# drop all rows with NaN wait time\n",
        "stops_sort_df = stops_sort_df.dropna() # subset=['wait1', 'wait2', 'wait3']\n",
        "\n",
        "stops_sort_df.head()"
      ],
      "execution_count": 23,
      "outputs": [
        {
          "output_type": "execute_result",
          "data": {
            "text/html": [
              "<div>\n",
              "<style scoped>\n",
              "    .dataframe tbody tr th:only-of-type {\n",
              "        vertical-align: middle;\n",
              "    }\n",
              "\n",
              "    .dataframe tbody tr th {\n",
              "        vertical-align: top;\n",
              "    }\n",
              "\n",
              "    .dataframe thead th {\n",
              "        text-align: right;\n",
              "    }\n",
              "</style>\n",
              "<table border=\"1\" class=\"dataframe\">\n",
              "  <thead>\n",
              "    <tr style=\"text-align: right;\">\n",
              "      <th></th>\n",
              "      <th>trip_id</th>\n",
              "      <th>trip_start</th>\n",
              "      <th>stop_id</th>\n",
              "      <th>stop_sequence</th>\n",
              "      <th>vehicle_id</th>\n",
              "      <th>status</th>\n",
              "      <th>timestamp</th>\n",
              "      <th>route_id</th>\n",
              "      <th>direction_id</th>\n",
              "      <th>new_stop</th>\n",
              "      <th>stop_dt</th>\n",
              "      <th>bus1_wait</th>\n",
              "      <th>bus2_wait</th>\n",
              "      <th>bus3_wait</th>\n",
              "      <th>wait1</th>\n",
              "      <th>wait2</th>\n",
              "      <th>wait3</th>\n",
              "    </tr>\n",
              "  </thead>\n",
              "  <tbody>\n",
              "    <tr>\n",
              "      <th>7346</th>\n",
              "      <td>35794662</td>\n",
              "      <td>2018-01-09</td>\n",
              "      <td>1</td>\n",
              "      <td>2</td>\n",
              "      <td>y1902</td>\n",
              "      <td>STOPPED_AT</td>\n",
              "      <td>2018-01-09 11:09:48</td>\n",
              "      <td>1</td>\n",
              "      <td>0</td>\n",
              "      <td>True</td>\n",
              "      <td>2018-01-09 06:09:48-05:00</td>\n",
              "      <td>00:21:36</td>\n",
              "      <td>00:35:41</td>\n",
              "      <td>01:12:26</td>\n",
              "      <td>1296.0</td>\n",
              "      <td>2141.0</td>\n",
              "      <td>4346.0</td>\n",
              "    </tr>\n",
              "    <tr>\n",
              "      <th>17516</th>\n",
              "      <td>35794690</td>\n",
              "      <td>2018-01-09</td>\n",
              "      <td>1</td>\n",
              "      <td>2</td>\n",
              "      <td>y1865</td>\n",
              "      <td>STOPPED_AT</td>\n",
              "      <td>2018-01-09 11:27:07</td>\n",
              "      <td>1</td>\n",
              "      <td>0</td>\n",
              "      <td>True</td>\n",
              "      <td>2018-01-09 06:27:07-05:00</td>\n",
              "      <td>00:17:19</td>\n",
              "      <td>00:38:55</td>\n",
              "      <td>00:53:00</td>\n",
              "      <td>1039.0</td>\n",
              "      <td>2335.0</td>\n",
              "      <td>3180.0</td>\n",
              "    </tr>\n",
              "    <tr>\n",
              "      <th>19034</th>\n",
              "      <td>35794654</td>\n",
              "      <td>2018-01-09</td>\n",
              "      <td>1</td>\n",
              "      <td>2</td>\n",
              "      <td>y1887</td>\n",
              "      <td>STOPPED_AT</td>\n",
              "      <td>2018-01-09 11:30:26</td>\n",
              "      <td>1</td>\n",
              "      <td>0</td>\n",
              "      <td>True</td>\n",
              "      <td>2018-01-09 06:30:26-05:00</td>\n",
              "      <td>00:03:19</td>\n",
              "      <td>00:20:38</td>\n",
              "      <td>00:42:14</td>\n",
              "      <td>199.0</td>\n",
              "      <td>1238.0</td>\n",
              "      <td>2534.0</td>\n",
              "    </tr>\n",
              "    <tr>\n",
              "      <th>24024</th>\n",
              "      <td>35794651</td>\n",
              "      <td>2018-01-09</td>\n",
              "      <td>1</td>\n",
              "      <td>2</td>\n",
              "      <td>y1880</td>\n",
              "      <td>STOPPED_AT</td>\n",
              "      <td>2018-01-09 11:45:27</td>\n",
              "      <td>1</td>\n",
              "      <td>0</td>\n",
              "      <td>True</td>\n",
              "      <td>2018-01-09 06:45:27-05:00</td>\n",
              "      <td>00:15:01</td>\n",
              "      <td>00:18:20</td>\n",
              "      <td>00:35:39</td>\n",
              "      <td>901.0</td>\n",
              "      <td>1100.0</td>\n",
              "      <td>2139.0</td>\n",
              "    </tr>\n",
              "    <tr>\n",
              "      <th>28246</th>\n",
              "      <td>35794649</td>\n",
              "      <td>2018-01-09</td>\n",
              "      <td>1</td>\n",
              "      <td>2</td>\n",
              "      <td>y1883</td>\n",
              "      <td>STOPPED_AT</td>\n",
              "      <td>2018-01-09 11:54:09</td>\n",
              "      <td>1</td>\n",
              "      <td>0</td>\n",
              "      <td>True</td>\n",
              "      <td>2018-01-09 06:54:09-05:00</td>\n",
              "      <td>00:08:42</td>\n",
              "      <td>00:23:43</td>\n",
              "      <td>00:27:02</td>\n",
              "      <td>522.0</td>\n",
              "      <td>1423.0</td>\n",
              "      <td>1622.0</td>\n",
              "    </tr>\n",
              "  </tbody>\n",
              "</table>\n",
              "</div>"
            ],
            "text/plain": [
              "        trip_id  trip_start stop_id  stop_sequence vehicle_id      status  \\\n",
              "7346   35794662  2018-01-09       1              2      y1902  STOPPED_AT   \n",
              "17516  35794690  2018-01-09       1              2      y1865  STOPPED_AT   \n",
              "19034  35794654  2018-01-09       1              2      y1887  STOPPED_AT   \n",
              "24024  35794651  2018-01-09       1              2      y1880  STOPPED_AT   \n",
              "28246  35794649  2018-01-09       1              2      y1883  STOPPED_AT   \n",
              "\n",
              "                 timestamp route_id direction_id  new_stop  \\\n",
              "7346   2018-01-09 11:09:48        1            0      True   \n",
              "17516  2018-01-09 11:27:07        1            0      True   \n",
              "19034  2018-01-09 11:30:26        1            0      True   \n",
              "24024  2018-01-09 11:45:27        1            0      True   \n",
              "28246  2018-01-09 11:54:09        1            0      True   \n",
              "\n",
              "                        stop_dt bus1_wait bus2_wait bus3_wait   wait1   wait2  \\\n",
              "7346  2018-01-09 06:09:48-05:00  00:21:36  00:35:41  01:12:26  1296.0  2141.0   \n",
              "17516 2018-01-09 06:27:07-05:00  00:17:19  00:38:55  00:53:00  1039.0  2335.0   \n",
              "19034 2018-01-09 06:30:26-05:00  00:03:19  00:20:38  00:42:14   199.0  1238.0   \n",
              "24024 2018-01-09 06:45:27-05:00  00:15:01  00:18:20  00:35:39   901.0  1100.0   \n",
              "28246 2018-01-09 06:54:09-05:00  00:08:42  00:23:43  00:27:02   522.0  1423.0   \n",
              "\n",
              "        wait3  \n",
              "7346   4346.0  \n",
              "17516  3180.0  \n",
              "19034  2534.0  \n",
              "24024  2139.0  \n",
              "28246  1622.0  "
            ]
          },
          "metadata": {
            "tags": []
          },
          "execution_count": 23
        }
      ]
    },
    {
      "metadata": {
        "id": "fja6BY1cj7UY",
        "colab_type": "code",
        "colab": {
          "autoexec": {
            "startup": false,
            "wait_interval": 0
          },
          "base_uri": "https://localhost:8080/",
          "height": 288
        },
        "outputId": "639a7487-05ba-4212-f7f6-d79c221f62e4",
        "executionInfo": {
          "status": "ok",
          "timestamp": 1530030120666,
          "user_tz": 240,
          "elapsed": 732,
          "user": {
            "displayName": "jay venti",
            "photoUrl": "//lh5.googleusercontent.com/-tfYlLQFNijE/AAAAAAAAAAI/AAAAAAAAAGA/DvcKQDdGFmw/s50-c-k-no/photo.jpg",
            "userId": "105684942742382661361"
          }
        }
      },
      "cell_type": "code",
      "source": [
        "stops_sort_df['x'] = stops_sort_df['wait1'].astype(int)\n",
        "stops_sort_df['wait1'] = stops_sort_df['x']\n",
        "stops_sort_df['x'] = stops_sort_df['wait2'].astype(int)\n",
        "stops_sort_df['wait2'] = stops_sort_df['x']\n",
        "stops_sort_df['x'] = stops_sort_df['wait3'].astype(int)\n",
        "stops_sort_df['wait3'] = stops_sort_df['x']\n",
        "stops_sort_df = stops_sort_df.drop(\"x\", 1, errors='ignore')\n",
        "pd.options.display.float_format = '{:,.0f}'.format\n",
        "stats = stops_sort_df.describe()\n",
        "stats"
      ],
      "execution_count": 24,
      "outputs": [
        {
          "output_type": "execute_result",
          "data": {
            "text/html": [
              "<div>\n",
              "<style scoped>\n",
              "    .dataframe tbody tr th:only-of-type {\n",
              "        vertical-align: middle;\n",
              "    }\n",
              "\n",
              "    .dataframe tbody tr th {\n",
              "        vertical-align: top;\n",
              "    }\n",
              "\n",
              "    .dataframe thead th {\n",
              "        text-align: right;\n",
              "    }\n",
              "</style>\n",
              "<table border=\"1\" class=\"dataframe\">\n",
              "  <thead>\n",
              "    <tr style=\"text-align: right;\">\n",
              "      <th></th>\n",
              "      <th>stop_sequence</th>\n",
              "      <th>bus1_wait</th>\n",
              "      <th>bus2_wait</th>\n",
              "      <th>bus3_wait</th>\n",
              "      <th>wait1</th>\n",
              "      <th>wait2</th>\n",
              "      <th>wait3</th>\n",
              "    </tr>\n",
              "  </thead>\n",
              "  <tbody>\n",
              "    <tr>\n",
              "      <th>count</th>\n",
              "      <td>66,321</td>\n",
              "      <td>66321</td>\n",
              "      <td>66321</td>\n",
              "      <td>66321</td>\n",
              "      <td>66,321</td>\n",
              "      <td>66,321</td>\n",
              "      <td>66,321</td>\n",
              "    </tr>\n",
              "    <tr>\n",
              "      <th>mean</th>\n",
              "      <td>20</td>\n",
              "      <td>0 days 01:17:15.389394</td>\n",
              "      <td>0 days 02:28:27.735769</td>\n",
              "      <td>0 days 03:35:11.947603</td>\n",
              "      <td>4,635</td>\n",
              "      <td>8,908</td>\n",
              "      <td>12,912</td>\n",
              "    </tr>\n",
              "    <tr>\n",
              "      <th>std</th>\n",
              "      <td>20</td>\n",
              "      <td>0 days 01:31:14.356412</td>\n",
              "      <td>0 days 02:14:44.856477</td>\n",
              "      <td>0 days 02:48:34.750308</td>\n",
              "      <td>5,474</td>\n",
              "      <td>8,085</td>\n",
              "      <td>10,115</td>\n",
              "    </tr>\n",
              "    <tr>\n",
              "      <th>min</th>\n",
              "      <td>1</td>\n",
              "      <td>0 days 00:00:00</td>\n",
              "      <td>0 days 00:00:07</td>\n",
              "      <td>0 days 00:02:03</td>\n",
              "      <td>0</td>\n",
              "      <td>7</td>\n",
              "      <td>123</td>\n",
              "    </tr>\n",
              "    <tr>\n",
              "      <th>25%</th>\n",
              "      <td>8</td>\n",
              "      <td>0 days 00:20:51</td>\n",
              "      <td>0 days 00:52:19</td>\n",
              "      <td>0 days 01:28:05</td>\n",
              "      <td>1,251</td>\n",
              "      <td>3,139</td>\n",
              "      <td>5,285</td>\n",
              "    </tr>\n",
              "    <tr>\n",
              "      <th>50%</th>\n",
              "      <td>16</td>\n",
              "      <td>0 days 00:45:06</td>\n",
              "      <td>0 days 01:45:49</td>\n",
              "      <td>0 days 02:46:57</td>\n",
              "      <td>2,706</td>\n",
              "      <td>6,349</td>\n",
              "      <td>10,017</td>\n",
              "    </tr>\n",
              "    <tr>\n",
              "      <th>75%</th>\n",
              "      <td>26</td>\n",
              "      <td>0 days 01:38:01</td>\n",
              "      <td>0 days 03:20:09</td>\n",
              "      <td>0 days 04:57:58</td>\n",
              "      <td>5,881</td>\n",
              "      <td>12,009</td>\n",
              "      <td>17,878</td>\n",
              "    </tr>\n",
              "    <tr>\n",
              "      <th>max</th>\n",
              "      <td>210</td>\n",
              "      <td>0 days 16:02:49</td>\n",
              "      <td>0 days 18:30:36</td>\n",
              "      <td>0 days 19:27:38</td>\n",
              "      <td>57,769</td>\n",
              "      <td>66,636</td>\n",
              "      <td>70,058</td>\n",
              "    </tr>\n",
              "  </tbody>\n",
              "</table>\n",
              "</div>"
            ],
            "text/plain": [
              "       stop_sequence               bus1_wait               bus2_wait  \\\n",
              "count         66,321                   66321                   66321   \n",
              "mean              20  0 days 01:17:15.389394  0 days 02:28:27.735769   \n",
              "std               20  0 days 01:31:14.356412  0 days 02:14:44.856477   \n",
              "min                1         0 days 00:00:00         0 days 00:00:07   \n",
              "25%                8         0 days 00:20:51         0 days 00:52:19   \n",
              "50%               16         0 days 00:45:06         0 days 01:45:49   \n",
              "75%               26         0 days 01:38:01         0 days 03:20:09   \n",
              "max              210         0 days 16:02:49         0 days 18:30:36   \n",
              "\n",
              "                    bus3_wait  wait1  wait2  wait3  \n",
              "count                   66321 66,321 66,321 66,321  \n",
              "mean   0 days 03:35:11.947603  4,635  8,908 12,912  \n",
              "std    0 days 02:48:34.750308  5,474  8,085 10,115  \n",
              "min           0 days 00:02:03      0      7    123  \n",
              "25%           0 days 01:28:05  1,251  3,139  5,285  \n",
              "50%           0 days 02:46:57  2,706  6,349 10,017  \n",
              "75%           0 days 04:57:58  5,881 12,009 17,878  \n",
              "max           0 days 19:27:38 57,769 66,636 70,058  "
            ]
          },
          "metadata": {
            "tags": []
          },
          "execution_count": 24
        }
      ]
    },
    {
      "metadata": {
        "id": "yrwIVlKkWaYG",
        "colab_type": "code",
        "colab": {
          "autoexec": {
            "startup": false,
            "wait_interval": 0
          },
          "base_uri": "https://localhost:8080/",
          "height": 35
        },
        "outputId": "365d73fb-18f3-4c20-f5d8-4e76b90241d1",
        "executionInfo": {
          "status": "ok",
          "timestamp": 1530030125297,
          "user_tz": 240,
          "elapsed": 532,
          "user": {
            "displayName": "jay venti",
            "photoUrl": "//lh5.googleusercontent.com/-tfYlLQFNijE/AAAAAAAAAAI/AAAAAAAAAGA/DvcKQDdGFmw/s50-c-k-no/photo.jpg",
            "userId": "105684942742382661361"
          }
        }
      },
      "cell_type": "code",
      "source": [
        "# max time in huors\n",
        "\n",
        "print('wait1 in huors', int(stats['wait1']['max']/60/60))\n"
      ],
      "execution_count": 25,
      "outputs": [
        {
          "output_type": "stream",
          "text": [
            "wait1 in huors 16\n"
          ],
          "name": "stdout"
        }
      ]
    },
    {
      "metadata": {
        "id": "u9X6jWJCZ1QV",
        "colab_type": "text"
      },
      "cell_type": "markdown",
      "source": [
        "This extremely long maximum wait time is suspicious probably indicates miscounting from a previous day.\n",
        "For this quickie analysis we will simply suspect large wait times as being artifacts and not attempt to correct this. Will look to exclude these long wait times from our analysis later on. \n",
        "\n",
        "TODO isolate the records with suspiciously large wait times and track their calculations looking for root error source."
      ]
    },
    {
      "metadata": {
        "id": "iZ7TUYGQ5I0E",
        "colab_type": "code",
        "colab": {
          "autoexec": {
            "startup": false,
            "wait_interval": 0
          },
          "base_uri": "https://localhost:8080/",
          "height": 314
        },
        "outputId": "cfece195-4b8e-40b4-8295-014f20b45b9d",
        "executionInfo": {
          "status": "ok",
          "timestamp": 1530030128302,
          "user_tz": 240,
          "elapsed": 651,
          "user": {
            "displayName": "jay venti",
            "photoUrl": "//lh5.googleusercontent.com/-tfYlLQFNijE/AAAAAAAAAAI/AAAAAAAAAGA/DvcKQDdGFmw/s50-c-k-no/photo.jpg",
            "userId": "105684942742382661361"
          }
        }
      },
      "cell_type": "code",
      "source": [
        "stops_sort_df.query(\"wait2 < 50\").tail(3)\n",
        "#bus_moves_sorted.head()\n",
        "\n"
      ],
      "execution_count": 26,
      "outputs": [
        {
          "output_type": "execute_result",
          "data": {
            "text/html": [
              "<div>\n",
              "<style scoped>\n",
              "    .dataframe tbody tr th:only-of-type {\n",
              "        vertical-align: middle;\n",
              "    }\n",
              "\n",
              "    .dataframe tbody tr th {\n",
              "        vertical-align: top;\n",
              "    }\n",
              "\n",
              "    .dataframe thead th {\n",
              "        text-align: right;\n",
              "    }\n",
              "</style>\n",
              "<table border=\"1\" class=\"dataframe\">\n",
              "  <thead>\n",
              "    <tr style=\"text-align: right;\">\n",
              "      <th></th>\n",
              "      <th>trip_id</th>\n",
              "      <th>trip_start</th>\n",
              "      <th>stop_id</th>\n",
              "      <th>stop_sequence</th>\n",
              "      <th>vehicle_id</th>\n",
              "      <th>status</th>\n",
              "      <th>timestamp</th>\n",
              "      <th>route_id</th>\n",
              "      <th>direction_id</th>\n",
              "      <th>new_stop</th>\n",
              "      <th>stop_dt</th>\n",
              "      <th>bus1_wait</th>\n",
              "      <th>bus2_wait</th>\n",
              "      <th>bus3_wait</th>\n",
              "      <th>wait1</th>\n",
              "      <th>wait2</th>\n",
              "      <th>wait3</th>\n",
              "    </tr>\n",
              "  </thead>\n",
              "  <tbody>\n",
              "    <tr>\n",
              "      <th>6863</th>\n",
              "      <td>35895908</td>\n",
              "      <td>2018-01-09</td>\n",
              "      <td>875</td>\n",
              "      <td>25</td>\n",
              "      <td>y1635</td>\n",
              "      <td>STOPPED_AT</td>\n",
              "      <td>2018-01-09 10:58:45</td>\n",
              "      <td>32</td>\n",
              "      <td>1</td>\n",
              "      <td>True</td>\n",
              "      <td>2018-01-09 05:58:45-05:00</td>\n",
              "      <td>00:00:14</td>\n",
              "      <td>00:00:29</td>\n",
              "      <td>00:20:41</td>\n",
              "      <td>14</td>\n",
              "      <td>29</td>\n",
              "      <td>1241</td>\n",
              "    </tr>\n",
              "    <tr>\n",
              "      <th>50084</th>\n",
              "      <td>35794808</td>\n",
              "      <td>2018-01-09</td>\n",
              "      <td>926</td>\n",
              "      <td>12</td>\n",
              "      <td>y1791</td>\n",
              "      <td>STOPPED_AT</td>\n",
              "      <td>2018-01-09 13:02:29</td>\n",
              "      <td>66</td>\n",
              "      <td>1</td>\n",
              "      <td>True</td>\n",
              "      <td>2018-01-09 08:02:29-05:00</td>\n",
              "      <td>00:00:16</td>\n",
              "      <td>00:00:24</td>\n",
              "      <td>00:37:38</td>\n",
              "      <td>16</td>\n",
              "      <td>24</td>\n",
              "      <td>2258</td>\n",
              "    </tr>\n",
              "    <tr>\n",
              "      <th>80442</th>\n",
              "      <td>35605928</td>\n",
              "      <td>2018-01-09</td>\n",
              "      <td>989</td>\n",
              "      <td>31</td>\n",
              "      <td>y0491</td>\n",
              "      <td>STOPPED_AT</td>\n",
              "      <td>2018-01-09 14:47:54</td>\n",
              "      <td>57</td>\n",
              "      <td>0</td>\n",
              "      <td>True</td>\n",
              "      <td>2018-01-09 09:47:54-05:00</td>\n",
              "      <td>00:00:08</td>\n",
              "      <td>00:00:35</td>\n",
              "      <td>00:30:23</td>\n",
              "      <td>8</td>\n",
              "      <td>35</td>\n",
              "      <td>1823</td>\n",
              "    </tr>\n",
              "  </tbody>\n",
              "</table>\n",
              "</div>"
            ],
            "text/plain": [
              "        trip_id  trip_start stop_id  stop_sequence vehicle_id      status  \\\n",
              "6863   35895908  2018-01-09     875             25      y1635  STOPPED_AT   \n",
              "50084  35794808  2018-01-09     926             12      y1791  STOPPED_AT   \n",
              "80442  35605928  2018-01-09     989             31      y0491  STOPPED_AT   \n",
              "\n",
              "                 timestamp route_id direction_id  new_stop  \\\n",
              "6863   2018-01-09 10:58:45       32            1      True   \n",
              "50084  2018-01-09 13:02:29       66            1      True   \n",
              "80442  2018-01-09 14:47:54       57            0      True   \n",
              "\n",
              "                        stop_dt bus1_wait bus2_wait bus3_wait  wait1  wait2  \\\n",
              "6863  2018-01-09 05:58:45-05:00  00:00:14  00:00:29  00:20:41     14     29   \n",
              "50084 2018-01-09 08:02:29-05:00  00:00:16  00:00:24  00:37:38     16     24   \n",
              "80442 2018-01-09 09:47:54-05:00  00:00:08  00:00:35  00:30:23      8     35   \n",
              "\n",
              "       wait3  \n",
              "6863    1241  \n",
              "50084   2258  \n",
              "80442   1823  "
            ]
          },
          "metadata": {
            "tags": []
          },
          "execution_count": 26
        }
      ]
    },
    {
      "metadata": {
        "id": "Q_yDaKbnP0bQ",
        "colab_type": "text"
      },
      "cell_type": "markdown",
      "source": [
        "Instead of working with raw times let's build bins and associate each reading what a bin so that we can place them into histograms, by counting how many busstop waiting events fall into each bin. \n",
        "Also we assume that there is some erroneous data at the low and high end of each rating scale.  Cutoffs are given which force data in the lower cut off region into the first bin wait times above  the upper cutoff into the last bin. We're doing this with an eye towards only looking at everything but the data in the last bin. Many of which have extremely high wait times. It's assumed the extremely high weight times are artifacts and not real."
      ]
    },
    {
      "metadata": {
        "id": "XRiujtk-Qwf6",
        "colab_type": "code",
        "colab": {
          "autoexec": {
            "startup": false,
            "wait_interval": 0
          },
          "base_uri": "https://localhost:8080/",
          "height": 90
        },
        "outputId": "81ee99d0-937e-407a-d278-40fcfee4b003",
        "executionInfo": {
          "status": "ok",
          "timestamp": 1530030146462,
          "user_tz": 240,
          "elapsed": 15147,
          "user": {
            "displayName": "jay venti",
            "photoUrl": "//lh5.googleusercontent.com/-tfYlLQFNijE/AAAAAAAAAAI/AAAAAAAAAGA/DvcKQDdGFmw/s50-c-k-no/photo.jpg",
            "userId": "105684942742382661361"
          }
        }
      },
      "cell_type": "code",
      "source": [
        "########################################################\n",
        "# qcut binarization of bus wait times\n",
        "def cutoff_qcut(df, target, bin_lab, bins,\n",
        "                low_cut, top_cut):\n",
        "    \"\"\" \n",
        "    provides a qcut with a top and lower cutoff bins, all values\n",
        "    below the lower cut off are in the first bin,\n",
        "    all values above the top cut off or in the last been.\n",
        "    Ben labels are integers the lower cut off bin will be 0 \n",
        "    the top then be the number of bins variable + 1.\n",
        "    \"\"\"\n",
        "    low_bin = 0\n",
        "    top_bin = bins + 1\n",
        "    mask1 =  (df > low_cut) & (df < top_cut)\n",
        "    df[bin_lab], binsout = pd.qcut(df[mask1][target], bins, \n",
        "                                   labels=range(1,bins+1),\n",
        "                                   duplicates='drop', retbins=True)\n",
        "    df[bin_lab] = df[bin_lab].astype(int)\n",
        "    df.loc[df[target] <= low_cut, bin_lab] = low_bin\n",
        "    df.loc[df[target] >= top_cut, bin_lab] = top_bin\n",
        "    print('bins',binsout)\n",
        "    return df\n",
        "\n",
        "\n",
        "###########################################\n",
        "\n",
        "bins = 8\n",
        "low_cut = 120\n",
        "top_cut = 3600 # 1 houer  \n",
        "stops_sort_df = cutoff_qcut(stops_sort_df, 'wait1', 'wait_bin1', 7, 30, top_cut)\n",
        "stops_sort_df = cutoff_qcut(stops_sort_df, 'wait2', 'wait_bin2', 7, 60, top_cut)\n",
        "stops_sort_df = cutoff_qcut(stops_sort_df, 'wait3', 'wait_bin3', 7, 60, top_cut)\n",
        "\n"
      ],
      "execution_count": 27,
      "outputs": [
        {
          "output_type": "stream",
          "text": [
            "bins [  31.  462.  890. 1309. 1731. 2199. 2811. 3599.]\n",
            "bins [  61.  908. 1444. 1892. 2311. 2734. 3146. 3599.]\n",
            "bins [ 123.         1186.57142857 1675.         2138.         2555.28571429\n",
            " 2899.85714286 3250.42857143 3599.        ]\n"
          ],
          "name": "stdout"
        }
      ]
    },
    {
      "metadata": {
        "id": "UThzZ0RztJYo",
        "colab_type": "code",
        "colab": {
          "autoexec": {
            "startup": false,
            "wait_interval": 0
          },
          "base_uri": "https://localhost:8080/",
          "height": 314
        },
        "outputId": "de22e3a8-c13d-4828-a9a8-19aefc8ee241",
        "executionInfo": {
          "status": "ok",
          "timestamp": 1530030153528,
          "user_tz": 240,
          "elapsed": 395,
          "user": {
            "displayName": "jay venti",
            "photoUrl": "//lh5.googleusercontent.com/-tfYlLQFNijE/AAAAAAAAAAI/AAAAAAAAAGA/DvcKQDdGFmw/s50-c-k-no/photo.jpg",
            "userId": "105684942742382661361"
          }
        }
      },
      "cell_type": "code",
      "source": [
        "stops_sort_df.head(3)"
      ],
      "execution_count": 28,
      "outputs": [
        {
          "output_type": "execute_result",
          "data": {
            "text/html": [
              "<div>\n",
              "<style scoped>\n",
              "    .dataframe tbody tr th:only-of-type {\n",
              "        vertical-align: middle;\n",
              "    }\n",
              "\n",
              "    .dataframe tbody tr th {\n",
              "        vertical-align: top;\n",
              "    }\n",
              "\n",
              "    .dataframe thead th {\n",
              "        text-align: right;\n",
              "    }\n",
              "</style>\n",
              "<table border=\"1\" class=\"dataframe\">\n",
              "  <thead>\n",
              "    <tr style=\"text-align: right;\">\n",
              "      <th></th>\n",
              "      <th>trip_id</th>\n",
              "      <th>trip_start</th>\n",
              "      <th>stop_id</th>\n",
              "      <th>stop_sequence</th>\n",
              "      <th>vehicle_id</th>\n",
              "      <th>status</th>\n",
              "      <th>timestamp</th>\n",
              "      <th>route_id</th>\n",
              "      <th>direction_id</th>\n",
              "      <th>new_stop</th>\n",
              "      <th>stop_dt</th>\n",
              "      <th>bus1_wait</th>\n",
              "      <th>bus2_wait</th>\n",
              "      <th>bus3_wait</th>\n",
              "      <th>wait1</th>\n",
              "      <th>wait2</th>\n",
              "      <th>wait3</th>\n",
              "      <th>wait_bin1</th>\n",
              "      <th>wait_bin2</th>\n",
              "      <th>wait_bin3</th>\n",
              "    </tr>\n",
              "  </thead>\n",
              "  <tbody>\n",
              "    <tr>\n",
              "      <th>7346</th>\n",
              "      <td>35794662</td>\n",
              "      <td>2018-01-09</td>\n",
              "      <td>1</td>\n",
              "      <td>2</td>\n",
              "      <td>y1902</td>\n",
              "      <td>STOPPED_AT</td>\n",
              "      <td>2018-01-09 11:09:48</td>\n",
              "      <td>1</td>\n",
              "      <td>0</td>\n",
              "      <td>True</td>\n",
              "      <td>2018-01-09 06:09:48-05:00</td>\n",
              "      <td>00:21:36</td>\n",
              "      <td>00:35:41</td>\n",
              "      <td>01:12:26</td>\n",
              "      <td>1296</td>\n",
              "      <td>2141</td>\n",
              "      <td>4346</td>\n",
              "      <td>3</td>\n",
              "      <td>4</td>\n",
              "      <td>8</td>\n",
              "    </tr>\n",
              "    <tr>\n",
              "      <th>17516</th>\n",
              "      <td>35794690</td>\n",
              "      <td>2018-01-09</td>\n",
              "      <td>1</td>\n",
              "      <td>2</td>\n",
              "      <td>y1865</td>\n",
              "      <td>STOPPED_AT</td>\n",
              "      <td>2018-01-09 11:27:07</td>\n",
              "      <td>1</td>\n",
              "      <td>0</td>\n",
              "      <td>True</td>\n",
              "      <td>2018-01-09 06:27:07-05:00</td>\n",
              "      <td>00:17:19</td>\n",
              "      <td>00:38:55</td>\n",
              "      <td>00:53:00</td>\n",
              "      <td>1039</td>\n",
              "      <td>2335</td>\n",
              "      <td>3180</td>\n",
              "      <td>3</td>\n",
              "      <td>5</td>\n",
              "      <td>6</td>\n",
              "    </tr>\n",
              "    <tr>\n",
              "      <th>19034</th>\n",
              "      <td>35794654</td>\n",
              "      <td>2018-01-09</td>\n",
              "      <td>1</td>\n",
              "      <td>2</td>\n",
              "      <td>y1887</td>\n",
              "      <td>STOPPED_AT</td>\n",
              "      <td>2018-01-09 11:30:26</td>\n",
              "      <td>1</td>\n",
              "      <td>0</td>\n",
              "      <td>True</td>\n",
              "      <td>2018-01-09 06:30:26-05:00</td>\n",
              "      <td>00:03:19</td>\n",
              "      <td>00:20:38</td>\n",
              "      <td>00:42:14</td>\n",
              "      <td>199</td>\n",
              "      <td>1238</td>\n",
              "      <td>2534</td>\n",
              "      <td>1</td>\n",
              "      <td>2</td>\n",
              "      <td>4</td>\n",
              "    </tr>\n",
              "  </tbody>\n",
              "</table>\n",
              "</div>"
            ],
            "text/plain": [
              "        trip_id  trip_start stop_id  stop_sequence vehicle_id      status  \\\n",
              "7346   35794662  2018-01-09       1              2      y1902  STOPPED_AT   \n",
              "17516  35794690  2018-01-09       1              2      y1865  STOPPED_AT   \n",
              "19034  35794654  2018-01-09       1              2      y1887  STOPPED_AT   \n",
              "\n",
              "                 timestamp route_id direction_id  new_stop  \\\n",
              "7346   2018-01-09 11:09:48        1            0      True   \n",
              "17516  2018-01-09 11:27:07        1            0      True   \n",
              "19034  2018-01-09 11:30:26        1            0      True   \n",
              "\n",
              "                        stop_dt bus1_wait bus2_wait bus3_wait  wait1  wait2  \\\n",
              "7346  2018-01-09 06:09:48-05:00  00:21:36  00:35:41  01:12:26   1296   2141   \n",
              "17516 2018-01-09 06:27:07-05:00  00:17:19  00:38:55  00:53:00   1039   2335   \n",
              "19034 2018-01-09 06:30:26-05:00  00:03:19  00:20:38  00:42:14    199   1238   \n",
              "\n",
              "       wait3  wait_bin1  wait_bin2  wait_bin3  \n",
              "7346    4346          3          4          8  \n",
              "17516   3180          3          5          6  \n",
              "19034   2534          1          2          4  "
            ]
          },
          "metadata": {
            "tags": []
          },
          "execution_count": 28
        }
      ]
    },
    {
      "metadata": {
        "id": "bj45XoeHRUvv",
        "colab_type": "text"
      },
      "cell_type": "markdown",
      "source": [
        "When we look for bunched up buses were going to want to look for short bus3_wait wait times which indicate that the third bus is coming almost immediately after the first bus. But we're interested in how this varies across each hour of the day assuming it's more likely to occur during rush hours. To facilitate this we need a hour of the day value for each row which we build here with the following code."
      ]
    },
    {
      "metadata": {
        "id": "Jh6uE-PZjzhR",
        "colab_type": "code",
        "colab": {
          "autoexec": {
            "startup": false,
            "wait_interval": 0
          },
          "base_uri": "https://localhost:8080/",
          "height": 420
        },
        "outputId": "7e72e61e-df5d-49d0-b925-64ec92404ad8",
        "executionInfo": {
          "status": "ok",
          "timestamp": 1530030156884,
          "user_tz": 240,
          "elapsed": 412,
          "user": {
            "displayName": "jay venti",
            "photoUrl": "//lh5.googleusercontent.com/-tfYlLQFNijE/AAAAAAAAAAI/AAAAAAAAAGA/DvcKQDdGFmw/s50-c-k-no/photo.jpg",
            "userId": "105684942742382661361"
          }
        }
      },
      "cell_type": "code",
      "source": [
        "stops_sort_df['h_ofDay'] = stops_sort_df.stop_dt.apply(lambda x: x.hour)\n",
        "#sales.timestamp.apply(lambda x: x.hour)\n",
        "stops_sort_df.head()\n"
      ],
      "execution_count": 29,
      "outputs": [
        {
          "output_type": "execute_result",
          "data": {
            "text/html": [
              "<div>\n",
              "<style scoped>\n",
              "    .dataframe tbody tr th:only-of-type {\n",
              "        vertical-align: middle;\n",
              "    }\n",
              "\n",
              "    .dataframe tbody tr th {\n",
              "        vertical-align: top;\n",
              "    }\n",
              "\n",
              "    .dataframe thead th {\n",
              "        text-align: right;\n",
              "    }\n",
              "</style>\n",
              "<table border=\"1\" class=\"dataframe\">\n",
              "  <thead>\n",
              "    <tr style=\"text-align: right;\">\n",
              "      <th></th>\n",
              "      <th>trip_id</th>\n",
              "      <th>trip_start</th>\n",
              "      <th>stop_id</th>\n",
              "      <th>stop_sequence</th>\n",
              "      <th>vehicle_id</th>\n",
              "      <th>status</th>\n",
              "      <th>timestamp</th>\n",
              "      <th>route_id</th>\n",
              "      <th>direction_id</th>\n",
              "      <th>new_stop</th>\n",
              "      <th>...</th>\n",
              "      <th>bus1_wait</th>\n",
              "      <th>bus2_wait</th>\n",
              "      <th>bus3_wait</th>\n",
              "      <th>wait1</th>\n",
              "      <th>wait2</th>\n",
              "      <th>wait3</th>\n",
              "      <th>wait_bin1</th>\n",
              "      <th>wait_bin2</th>\n",
              "      <th>wait_bin3</th>\n",
              "      <th>h_ofDay</th>\n",
              "    </tr>\n",
              "  </thead>\n",
              "  <tbody>\n",
              "    <tr>\n",
              "      <th>7346</th>\n",
              "      <td>35794662</td>\n",
              "      <td>2018-01-09</td>\n",
              "      <td>1</td>\n",
              "      <td>2</td>\n",
              "      <td>y1902</td>\n",
              "      <td>STOPPED_AT</td>\n",
              "      <td>2018-01-09 11:09:48</td>\n",
              "      <td>1</td>\n",
              "      <td>0</td>\n",
              "      <td>True</td>\n",
              "      <td>...</td>\n",
              "      <td>00:21:36</td>\n",
              "      <td>00:35:41</td>\n",
              "      <td>01:12:26</td>\n",
              "      <td>1296</td>\n",
              "      <td>2141</td>\n",
              "      <td>4346</td>\n",
              "      <td>3</td>\n",
              "      <td>4</td>\n",
              "      <td>8</td>\n",
              "      <td>6</td>\n",
              "    </tr>\n",
              "    <tr>\n",
              "      <th>17516</th>\n",
              "      <td>35794690</td>\n",
              "      <td>2018-01-09</td>\n",
              "      <td>1</td>\n",
              "      <td>2</td>\n",
              "      <td>y1865</td>\n",
              "      <td>STOPPED_AT</td>\n",
              "      <td>2018-01-09 11:27:07</td>\n",
              "      <td>1</td>\n",
              "      <td>0</td>\n",
              "      <td>True</td>\n",
              "      <td>...</td>\n",
              "      <td>00:17:19</td>\n",
              "      <td>00:38:55</td>\n",
              "      <td>00:53:00</td>\n",
              "      <td>1039</td>\n",
              "      <td>2335</td>\n",
              "      <td>3180</td>\n",
              "      <td>3</td>\n",
              "      <td>5</td>\n",
              "      <td>6</td>\n",
              "      <td>6</td>\n",
              "    </tr>\n",
              "    <tr>\n",
              "      <th>19034</th>\n",
              "      <td>35794654</td>\n",
              "      <td>2018-01-09</td>\n",
              "      <td>1</td>\n",
              "      <td>2</td>\n",
              "      <td>y1887</td>\n",
              "      <td>STOPPED_AT</td>\n",
              "      <td>2018-01-09 11:30:26</td>\n",
              "      <td>1</td>\n",
              "      <td>0</td>\n",
              "      <td>True</td>\n",
              "      <td>...</td>\n",
              "      <td>00:03:19</td>\n",
              "      <td>00:20:38</td>\n",
              "      <td>00:42:14</td>\n",
              "      <td>199</td>\n",
              "      <td>1238</td>\n",
              "      <td>2534</td>\n",
              "      <td>1</td>\n",
              "      <td>2</td>\n",
              "      <td>4</td>\n",
              "      <td>6</td>\n",
              "    </tr>\n",
              "    <tr>\n",
              "      <th>24024</th>\n",
              "      <td>35794651</td>\n",
              "      <td>2018-01-09</td>\n",
              "      <td>1</td>\n",
              "      <td>2</td>\n",
              "      <td>y1880</td>\n",
              "      <td>STOPPED_AT</td>\n",
              "      <td>2018-01-09 11:45:27</td>\n",
              "      <td>1</td>\n",
              "      <td>0</td>\n",
              "      <td>True</td>\n",
              "      <td>...</td>\n",
              "      <td>00:15:01</td>\n",
              "      <td>00:18:20</td>\n",
              "      <td>00:35:39</td>\n",
              "      <td>901</td>\n",
              "      <td>1100</td>\n",
              "      <td>2139</td>\n",
              "      <td>3</td>\n",
              "      <td>2</td>\n",
              "      <td>4</td>\n",
              "      <td>6</td>\n",
              "    </tr>\n",
              "    <tr>\n",
              "      <th>28246</th>\n",
              "      <td>35794649</td>\n",
              "      <td>2018-01-09</td>\n",
              "      <td>1</td>\n",
              "      <td>2</td>\n",
              "      <td>y1883</td>\n",
              "      <td>STOPPED_AT</td>\n",
              "      <td>2018-01-09 11:54:09</td>\n",
              "      <td>1</td>\n",
              "      <td>0</td>\n",
              "      <td>True</td>\n",
              "      <td>...</td>\n",
              "      <td>00:08:42</td>\n",
              "      <td>00:23:43</td>\n",
              "      <td>00:27:02</td>\n",
              "      <td>522</td>\n",
              "      <td>1423</td>\n",
              "      <td>1622</td>\n",
              "      <td>2</td>\n",
              "      <td>2</td>\n",
              "      <td>2</td>\n",
              "      <td>6</td>\n",
              "    </tr>\n",
              "  </tbody>\n",
              "</table>\n",
              "<p>5 rows × 21 columns</p>\n",
              "</div>"
            ],
            "text/plain": [
              "        trip_id  trip_start stop_id  stop_sequence vehicle_id      status  \\\n",
              "7346   35794662  2018-01-09       1              2      y1902  STOPPED_AT   \n",
              "17516  35794690  2018-01-09       1              2      y1865  STOPPED_AT   \n",
              "19034  35794654  2018-01-09       1              2      y1887  STOPPED_AT   \n",
              "24024  35794651  2018-01-09       1              2      y1880  STOPPED_AT   \n",
              "28246  35794649  2018-01-09       1              2      y1883  STOPPED_AT   \n",
              "\n",
              "                 timestamp route_id direction_id  new_stop   ...    bus1_wait  \\\n",
              "7346   2018-01-09 11:09:48        1            0      True   ...     00:21:36   \n",
              "17516  2018-01-09 11:27:07        1            0      True   ...     00:17:19   \n",
              "19034  2018-01-09 11:30:26        1            0      True   ...     00:03:19   \n",
              "24024  2018-01-09 11:45:27        1            0      True   ...     00:15:01   \n",
              "28246  2018-01-09 11:54:09        1            0      True   ...     00:08:42   \n",
              "\n",
              "      bus2_wait bus3_wait wait1  wait2  wait3  wait_bin1  wait_bin2  \\\n",
              "7346   00:35:41  01:12:26  1296   2141   4346          3          4   \n",
              "17516  00:38:55  00:53:00  1039   2335   3180          3          5   \n",
              "19034  00:20:38  00:42:14   199   1238   2534          1          2   \n",
              "24024  00:18:20  00:35:39   901   1100   2139          3          2   \n",
              "28246  00:23:43  00:27:02   522   1423   1622          2          2   \n",
              "\n",
              "       wait_bin3  h_ofDay  \n",
              "7346           8        6  \n",
              "17516          6        6  \n",
              "19034          4        6  \n",
              "24024          4        6  \n",
              "28246          2        6  \n",
              "\n",
              "[5 rows x 21 columns]"
            ]
          },
          "metadata": {
            "tags": []
          },
          "execution_count": 29
        }
      ]
    },
    {
      "metadata": {
        "id": "mIcJyCr_SDcD",
        "colab_type": "text"
      },
      "cell_type": "markdown",
      "source": [
        "We now want to count up how many weight events of each length occur across each hour of the day for the first second and third bus weight values, wait_bin1, wait_bin2, and wait_bin3. we use groupby(['h_ofDay', 'wait_bin1']).size() to do this."
      ]
    },
    {
      "metadata": {
        "id": "RjjAbllxP8Bt",
        "colab_type": "code",
        "colab": {
          "autoexec": {
            "startup": false,
            "wait_interval": 0
          },
          "base_uri": "https://localhost:8080/",
          "height": 198
        },
        "outputId": "3f19c42d-5ac4-4ad7-e4a3-f483dc26a95f",
        "executionInfo": {
          "status": "ok",
          "timestamp": 1530030159716,
          "user_tz": 240,
          "elapsed": 327,
          "user": {
            "displayName": "jay venti",
            "photoUrl": "//lh5.googleusercontent.com/-tfYlLQFNijE/AAAAAAAAAAI/AAAAAAAAAGA/DvcKQDdGFmw/s50-c-k-no/photo.jpg",
            "userId": "105684942742382661361"
          }
        }
      },
      "cell_type": "code",
      "source": [
        "#grouped = stops_sort_df.groupby(['h_ofDay','wait_bin1'])size()\n",
        "wait_bin1 = stops_sort_df.groupby(['h_ofDay', 'stop_sequence', 'wait_bin1']).size().reset_index(name='counts')\n",
        "wait_bin2 = stops_sort_df.groupby(['h_ofDay', 'stop_sequence', 'wait_bin2']).size().reset_index(name='counts')\n",
        "wait_bin3 = stops_sort_df.groupby(['h_ofDay', 'stop_sequence', 'wait_bin3']).size().reset_index(name='counts')\n",
        "wait_bin1.head()"
      ],
      "execution_count": 30,
      "outputs": [
        {
          "output_type": "execute_result",
          "data": {
            "text/html": [
              "<div>\n",
              "<style scoped>\n",
              "    .dataframe tbody tr th:only-of-type {\n",
              "        vertical-align: middle;\n",
              "    }\n",
              "\n",
              "    .dataframe tbody tr th {\n",
              "        vertical-align: top;\n",
              "    }\n",
              "\n",
              "    .dataframe thead th {\n",
              "        text-align: right;\n",
              "    }\n",
              "</style>\n",
              "<table border=\"1\" class=\"dataframe\">\n",
              "  <thead>\n",
              "    <tr style=\"text-align: right;\">\n",
              "      <th></th>\n",
              "      <th>h_ofDay</th>\n",
              "      <th>stop_sequence</th>\n",
              "      <th>wait_bin1</th>\n",
              "      <th>counts</th>\n",
              "    </tr>\n",
              "  </thead>\n",
              "  <tbody>\n",
              "    <tr>\n",
              "      <th>0</th>\n",
              "      <td>0</td>\n",
              "      <td>1</td>\n",
              "      <td>3</td>\n",
              "      <td>1</td>\n",
              "    </tr>\n",
              "    <tr>\n",
              "      <th>1</th>\n",
              "      <td>0</td>\n",
              "      <td>1</td>\n",
              "      <td>4</td>\n",
              "      <td>1</td>\n",
              "    </tr>\n",
              "    <tr>\n",
              "      <th>2</th>\n",
              "      <td>0</td>\n",
              "      <td>1</td>\n",
              "      <td>5</td>\n",
              "      <td>1</td>\n",
              "    </tr>\n",
              "    <tr>\n",
              "      <th>3</th>\n",
              "      <td>0</td>\n",
              "      <td>1</td>\n",
              "      <td>6</td>\n",
              "      <td>1</td>\n",
              "    </tr>\n",
              "    <tr>\n",
              "      <th>4</th>\n",
              "      <td>0</td>\n",
              "      <td>1</td>\n",
              "      <td>7</td>\n",
              "      <td>3</td>\n",
              "    </tr>\n",
              "  </tbody>\n",
              "</table>\n",
              "</div>"
            ],
            "text/plain": [
              "   h_ofDay  stop_sequence  wait_bin1  counts\n",
              "0        0              1          3       1\n",
              "1        0              1          4       1\n",
              "2        0              1          5       1\n",
              "3        0              1          6       1\n",
              "4        0              1          7       3"
            ]
          },
          "metadata": {
            "tags": []
          },
          "execution_count": 30
        }
      ]
    },
    {
      "metadata": {
        "id": "_gP9gBmNS-Wa",
        "colab_type": "text"
      },
      "cell_type": "markdown",
      "source": [
        "##Graphing the Data with Matplotlib"
      ]
    },
    {
      "metadata": {
        "id": "oVIx2GmlTpOC",
        "colab_type": "code",
        "colab": {
          "autoexec": {
            "startup": false,
            "wait_interval": 0
          }
        }
      },
      "cell_type": "code",
      "source": [
        "%matplotlib inline\n",
        "import matplotlib as mpl\n",
        "import matplotlib.pyplot as plt\n",
        "import seaborn as sns\n",
        "sns.set_style(\"whitegrid\")\n"
      ],
      "execution_count": 0,
      "outputs": []
    },
    {
      "metadata": {
        "id": "jv_EFSO3TvLX",
        "colab_type": "text"
      },
      "cell_type": "markdown",
      "source": [
        "first let's take a general look at how the first bus wait varies over hour of the day versus are long to short wate bins"
      ]
    },
    {
      "metadata": {
        "id": "lpuDwuUnUFbi",
        "colab_type": "code",
        "colab": {
          "autoexec": {
            "startup": false,
            "wait_interval": 0
          },
          "base_uri": "https://localhost:8080/",
          "height": 297
        },
        "outputId": "adb4775c-40a3-4e6e-999d-eaa7011d35b3",
        "executionInfo": {
          "status": "ok",
          "timestamp": 1530030165581,
          "user_tz": 240,
          "elapsed": 1088,
          "user": {
            "displayName": "jay venti",
            "photoUrl": "//lh5.googleusercontent.com/-tfYlLQFNijE/AAAAAAAAAAI/AAAAAAAAAGA/DvcKQDdGFmw/s50-c-k-no/photo.jpg",
            "userId": "105684942742382661361"
          }
        }
      },
      "cell_type": "code",
      "source": [
        "sns.stripplot(x=\"h_ofDay\", y=\"counts\", hue=\"wait_bin1\", data=wait_bin1)"
      ],
      "execution_count": 32,
      "outputs": [
        {
          "output_type": "execute_result",
          "data": {
            "text/plain": [
              "<matplotlib.axes._subplots.AxesSubplot at 0x7fa98bb474a8>"
            ]
          },
          "metadata": {
            "tags": []
          },
          "execution_count": 32
        },
        {
          "output_type": "display_data",
          "data": {
            "image/png": "[encoded data removed]",
            "text/plain": [
              "<matplotlib.figure.Figure at 0x7fa98bb475f8>"
            ]
          },
          "metadata": {
            "tags": []
          }
        }
      ]
    },
    {
      "metadata": {
        "id": "bGg0uifYUQfm",
        "colab_type": "text"
      },
      "cell_type": "markdown",
      "source": [
        "From now on let's cut out the high wait time been it seems to contain experienced data as we assumed.\n"
      ]
    },
    {
      "metadata": {
        "id": "Lm2XN62gUZ4S",
        "colab_type": "code",
        "colab": {
          "autoexec": {
            "startup": false,
            "wait_interval": 0
          },
          "base_uri": "https://localhost:8080/",
          "height": 302
        },
        "outputId": "efb14e49-6c08-4536-b28d-4938324b93dd",
        "executionInfo": {
          "status": "ok",
          "timestamp": 1529019773588,
          "user_tz": 240,
          "elapsed": 903,
          "user": {
            "displayName": "jay venti",
            "photoUrl": "//lh5.googleusercontent.com/-tfYlLQFNijE/AAAAAAAAAAI/AAAAAAAAAGA/DvcKQDdGFmw/s50-c-k-no/photo.jpg",
            "userId": "105684942742382661361"
          }
        }
      },
      "cell_type": "code",
      "source": [
        "# cut out the last bin from the graphing data \n",
        "# set assuming it has artifact data in it\n",
        "waitbn1= wait_bin1.query(\"wait_bin1 < 8\")[['h_ofDay','wait_bin1', 'counts']]\n",
        "sns.stripplot(x=\"h_ofDay\", y=\"counts\", hue=\"wait_bin1\", data=waitbn1)"
      ],
      "execution_count": 137,
      "outputs": [
        {
          "output_type": "execute_result",
          "data": {
            "text/plain": [
              "<matplotlib.axes._subplots.AxesSubplot at 0x7f01231a4400>"
            ]
          },
          "metadata": {
            "tags": []
          },
          "execution_count": 137
        },
        {
          "output_type": "display_data",
          "data": {
            "image/png": "[encoded data removed]",
            "text/plain": [
              "<matplotlib.figure.Figure at 0x7f01233d84e0>"
            ]
          },
          "metadata": {
            "tags": []
          }
        }
      ]
    },
    {
      "metadata": {
        "id": "pRzKTbDU549f",
        "colab_type": "text"
      },
      "cell_type": "markdown",
      "source": [
        "let's now look for bus bunch ups given by short second bus waits"
      ]
    },
    {
      "metadata": {
        "id": "eMNr0aW_549i",
        "colab_type": "code",
        "colab": {
          "autoexec": {
            "startup": false,
            "wait_interval": 0
          },
          "base_uri": "https://localhost:8080/",
          "height": 297
        },
        "outputId": "e7363381-0e46-4170-fb14-8341b43583f9",
        "executionInfo": {
          "status": "ok",
          "timestamp": 1529002246392,
          "user_tz": 240,
          "elapsed": 435,
          "user": {
            "displayName": "jay venti",
            "photoUrl": "//lh5.googleusercontent.com/-tfYlLQFNijE/AAAAAAAAAAI/AAAAAAAAAGA/DvcKQDdGFmw/s50-c-k-no/photo.jpg",
            "userId": "105684942742382661361"
          }
        }
      },
      "cell_type": "code",
      "source": [
        "bunchups_bus2= wait_bin2.query(\"wait_bin2 <= 0\")[['h_ofDay','wait_bin2', 'counts']]\n",
        "sns.stripplot(x=\"h_ofDay\", y=\"counts\", hue=\"wait_bin2\", data=bunchups_bus2)\n",
        "\n",
        "#red_line.groupby(\"h_ofDay\").wait_bin1.nunique().plot(color=\"red\")\n",
        "# orange_line.groupby(\"h_ofDay\").trip_id.nunique().plot(color=\"orange\")\n",
        "# blue_line.groupby(\"h_ofDay\").trip_id.nunique().plot(color=\"blue\")"
      ],
      "execution_count": 31,
      "outputs": [
        {
          "output_type": "execute_result",
          "data": {
            "text/plain": [
              "<matplotlib.axes._subplots.AxesSubplot at 0x7f0122ed2390>"
            ]
          },
          "metadata": {
            "tags": []
          },
          "execution_count": 31
        },
        {
          "output_type": "display_data",
          "data": {
            "image/png": "[encoded data removed]",
            "text/plain": [
              "<matplotlib.figure.Figure at 0x7f0124368978>"
            ]
          },
          "metadata": {
            "tags": []
          }
        }
      ]
    },
    {
      "metadata": {
        "id": "WJlg48No549k",
        "colab_type": "text"
      },
      "cell_type": "markdown",
      "source": [
        "It may be that bin 1 is really not a bunch ups. Bunch ups may really only occur in bin 0. this is an unexpected result since most of these short wait times happen in the middle of the day though they are also occur during evening rush hour.\n",
        "\n",
        "let's now take a look at the same thing for third bus bunch ups which ought to be more rare.\n",
        "\n"
      ]
    },
    {
      "metadata": {
        "id": "_l2kz04BXlYZ",
        "colab_type": "code",
        "colab": {
          "autoexec": {
            "startup": false,
            "wait_interval": 0
          },
          "base_uri": "https://localhost:8080/",
          "height": 297
        },
        "outputId": "5353c8c1-f809-449f-8359-097095f83bb5",
        "executionInfo": {
          "status": "ok",
          "timestamp": 1529002250431,
          "user_tz": 240,
          "elapsed": 637,
          "user": {
            "displayName": "jay venti",
            "photoUrl": "//lh5.googleusercontent.com/-tfYlLQFNijE/AAAAAAAAAAI/AAAAAAAAAGA/DvcKQDdGFmw/s50-c-k-no/photo.jpg",
            "userId": "105684942742382661361"
          }
        }
      },
      "cell_type": "code",
      "source": [
        "bunchups_bus3= wait_bin3.query(\"wait_bin3 <= 1\")[['h_ofDay','wait_bin3', 'counts']]\n",
        "sns.stripplot(x=\"h_ofDay\", y=\"counts\", hue=\"wait_bin3\", data=bunchups_bus3)"
      ],
      "execution_count": 32,
      "outputs": [
        {
          "output_type": "execute_result",
          "data": {
            "text/plain": [
              "<matplotlib.axes._subplots.AxesSubplot at 0x7f01243816a0>"
            ]
          },
          "metadata": {
            "tags": []
          },
          "execution_count": 32
        },
        {
          "output_type": "display_data",
          "data": {
            "image/png": "[encoded data removed]",
            "text/plain": [
              "<matplotlib.figure.Figure at 0x7f0124335d30>"
            ]
          },
          "metadata": {
            "tags": []
          }
        }
      ]
    },
    {
      "metadata": {
        "id": "TJBolrS9X2Pp",
        "colab_type": "text"
      },
      "cell_type": "markdown",
      "source": [
        "According to this bus punch ups are most common during lunch time this warrants more investigation.\n",
        "\n",
        "let's now take a look at how bunch up of events vary with stop sequence, we might think that they get a bit worse as buses travel down the line. This might not necessarily be so if it's highly dependent on time of day. We use a heat map investigate this. "
      ]
    },
    {
      "metadata": {
        "id": "ozBSS80FcmuD",
        "colab_type": "code",
        "colab": {
          "autoexec": {
            "startup": false,
            "wait_interval": 0
          },
          "base_uri": "https://localhost:8080/",
          "height": 558
        },
        "outputId": "01188e14-abe7-4a26-f55e-8a61604a3896",
        "executionInfo": {
          "status": "ok",
          "timestamp": 1530030279712,
          "user_tz": 240,
          "elapsed": 1078,
          "user": {
            "displayName": "jay venti",
            "photoUrl": "//lh5.googleusercontent.com/-tfYlLQFNijE/AAAAAAAAAAI/AAAAAAAAAGA/DvcKQDdGFmw/s50-c-k-no/photo.jpg",
            "userId": "105684942742382661361"
          }
        }
      },
      "cell_type": "code",
      "source": [
        "#bunchups_bus3.head(3)\n",
        "bunchb3_bincut= wait_bin3.query(\"wait_bin3 <= 1\")[['h_ofDay','stop_sequence', 'counts']]\n",
        "\n",
        "# Lode sns data by reorering the bunchb3_bincut df\n",
        "bunchb3 = bunchb3_bincut.pivot(index='stop_sequence',columns='h_ofDay',values='counts')\n",
        "\n",
        "# set grid style\n",
        "sns.set_style(\"darkgrid\")\n",
        "# Initialize Figure and Axes object\n",
        "#plt.figure(figsize=(12,8))\n",
        "fig, ax = plt.subplots(figsize=(12, 8))\n",
        "# Setup color palettes\n",
        "cube1 = sns.cubehelix_palette(12, start=.1, rot=-.79, as_cmap=True)\n",
        "cube2 = sns.cubehelix_palette(light=.8, as_cmap=True)\n",
        "\n",
        "# Construct heatmap plot\n",
        "g = sns.heatmap(bunchb3,  linewidths=.2, cmap = cube1)\n",
        "\n",
        "# setup graph styles\n",
        "ymin, ymax = plt.ylim()\n",
        "plt.ylim(ymax, ymin)\n",
        "plt.xlim(0, None)\n",
        "plt.locator_params(axis='y', nbins=30)\n",
        "ax.set_xlabel('Hour of Day',fontsize=15)\n",
        "ax.set_ylabel('Stop Sequence ID',fontsize=15)\n",
        "fig.suptitle('MBTA Bunched Up Bus Heatmap', fontsize=20)\n",
        "\n",
        "\n",
        "plt.show()\n"
      ],
      "execution_count": 37,
      "outputs": [
        {
          "output_type": "display_data",
          "data": {
            "image/png": "[encoded data removed]",
            "text/plain": [
              "<matplotlib.figure.Figure at 0x7fa98bb2cf60>"
            ]
          },
          "metadata": {
            "tags": []
          }
        }
      ]
    }
  ]
}